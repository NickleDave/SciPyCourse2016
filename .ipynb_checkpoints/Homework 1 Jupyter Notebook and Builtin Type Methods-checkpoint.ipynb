{
 "cells": [
  {
   "cell_type": "markdown",
   "metadata": {},
   "source": [
    "# Python Course Homework 1: Jupyter Notebook and Python builtin type methods"
   ]
  },
  {
   "cell_type": "markdown",
   "metadata": {},
   "source": [
    "# Jupyter Notebook\n",
    "\n",
    "This notebook file runs on Jupyter Notebook, once called IPython notebook.  It is an incredible tool that is geared towards an interactive data exploration workflow and increasing transparancy in how data analysis was performed.  It does this by sharing text, code, and figures all in the same place.  The format has become very popular, and notebooks be found online for all kinds of analyses!\n",
    "\n",
    "Please download and open this notebook in the jupyter notebook application on your computer to interact with it and work through the exercises!"
   ]
  },
  {
   "cell_type": "markdown",
   "metadata": {},
   "source": [
    "## Markdown Cells are for Text, Code Cells are for Code.\n",
    "\n",
    "Keyboard shortcuts for Jupyter Notebook can be found under the Help menu.  They will speed up your work immensely!\n",
    "\n",
    "### Markdown Cells\n",
    "\n",
    "To add text to a notebook, click a \"cell\" (one of the boxes you can type into) and select **Markdown** from the dropdown list on the toolbar near the top of the page.  You can tell it worked if there is no \"In []\" text at the left of the cell.  Then, type your sentences, format it using the Markdown text format (details can be found at https://github.com/adam-p/markdown-here/wiki/Markdown-Cheatsheet) and run the cell by:\n",
    "  - clicking the \"Run cell\" triangle button on the toolbar, \n",
    "  - clicking \"Run Cell\" in the Cell dropdown menu, or \n",
    "  - pressing Ctrl-Enter.\n",
    " \n",
    "To see how this cell was formatted, simply double-click it or select it and press the Enter key, and you will see what was typed into the cell.\n",
    "\n",
    "For great examples of how effective notebooks can be at communication: see the notebooks at the following link: http://nb.bianp.net/sort/views/"
   ]
  },
  {
   "cell_type": "markdown",
   "metadata": {},
   "source": [
    "## Code Cells\n",
    "\n",
    "Code cells run code!  By default, they should be running Python just fine.  To change the kernel that is running, go to the Kernel menu, highlight \"Change Kernel\", and select the language you want started.  You'll also see options in that menu for restarting it and running everything in the notebook.\n",
    "\n",
    "Following is an example of a code cell: Go ahead and run it!  You'll should see the output below.  Notice that the print() function wasn't necessary here--the notebook will display one line (the last line) that is called without assignment to a variable."
   ]
  },
  {
   "cell_type": "code",
   "execution_count": 4,
   "metadata": {
    "collapsed": false
   },
   "outputs": [
    {
     "data": {
      "text/html": [
       "<img src=\"http://lorempixel.com/400/200/\" width=\"310\"/>"
      ],
      "text/plain": [
       "<IPython.core.display.Image object>"
      ]
     },
     "execution_count": 4,
     "metadata": {},
     "output_type": "execute_result"
    }
   ],
   "source": [
    "# Code cells run Python.\n",
    "# This code will fetch an image from the internet, from a site that gives a random image.\n",
    "# The image will be an Image object!\n",
    "from IPython.display import Image\n",
    "rand_pic = Image(url='http://lorempixel.com/400/200/', width=310)\n",
    "rand_pic"
   ]
  },
  {
   "cell_type": "markdown",
   "metadata": {},
   "source": [
    "## IPython Magicks\n",
    "\n",
    "IPython has a lot of extension tricks for performing useful tasks or modifying its behavior!  You can recognize them as functions prepended by a % sign.  If it is used to modify an entire cell or notebook, then two % signs will be used.  Here are a couple of my favorites:\n",
    "\n",
    "### %timeit\n",
    "Tells you how long a line took to run.  For example:\n",
    "\n"
   ]
  },
  {
   "cell_type": "code",
   "execution_count": 5,
   "metadata": {
    "collapsed": false
   },
   "outputs": [
    {
     "name": "stdout",
     "output_type": "stream",
     "text": [
      "The slowest run took 14.79 times longer than the fastest. This could mean that an intermediate result is being cached.\n",
      "10000000 loops, best of 3: 160 ns per loop\n"
     ]
    }
   ],
   "source": [
    "%timeit sum([1,2,3,4,5])"
   ]
  },
  {
   "cell_type": "markdown",
   "metadata": {},
   "source": [
    "You can also use **%%timeit** to time a whole cell!"
   ]
  },
  {
   "cell_type": "markdown",
   "metadata": {},
   "source": [
    "### %qtconsole\n",
    "\n",
    "Launches an IPython console that is tied to the notebook session.  Super useful for trying things out, because all variables are shared between them!  By habit, I put this line at the top of all my analysis notebooks, making it an essential part of my workflow.\n",
    "\n",
    "### %matplotlib inline\n",
    "### %matplotlib notebook\n",
    "\n",
    "Makes all Matplotlib figures appear inside the notebook.  If the **inline** option is used, it will appear as an image below (useful, especially when also making plots in the qtconsole).  If the **notebook** option is used, a fully interactive plot will appear!"
   ]
  },
  {
   "cell_type": "markdown",
   "metadata": {},
   "source": [
    "# Python Built-In Type Methods\n",
    "\n",
    "As we discussed in the lecture, all Python objects are **Objects**, which means they have **Properties/Attributes** (data) and **Methods** associated with them.  These are accessible via the **Dot Notation**. \n",
    "\n",
    "For example, here we use a string **Class**'s *title()* method:"
   ]
  },
  {
   "cell_type": "code",
   "execution_count": 8,
   "metadata": {
    "collapsed": false
   },
   "outputs": [
    {
     "data": {
      "text/plain": [
       "'The Lion King'"
      ]
     },
     "execution_count": 8,
     "metadata": {},
     "output_type": "execute_result"
    }
   ],
   "source": [
    "film = 'the lion king'\n",
    "bigfilm = film.title()\n",
    "bigfilm"
   ]
  },
  {
   "cell_type": "markdown",
   "metadata": {},
   "source": [
    "It could also have been called like this:"
   ]
  },
  {
   "cell_type": "code",
   "execution_count": 10,
   "metadata": {
    "collapsed": false
   },
   "outputs": [
    {
     "data": {
      "text/plain": [
       "'The Lion King'"
      ]
     },
     "execution_count": 10,
     "metadata": {},
     "output_type": "execute_result"
    }
   ],
   "source": [
    "'the lion king'.title()"
   ]
  },
  {
   "cell_type": "markdown",
   "metadata": {},
   "source": [
    "\n",
    "# Exercises\n",
    "**Directions**: Answer the following questions by adding lines of code to perform the task requested on the given data in each data cell.  In many exercises, this will only require one line of code, but some may require multiple steps.\n",
    "\n",
    "**Tip**: Learning a programming language is just as much about learning the names and locations of the functions as it is about learning how the language works.  This is akin to how learning the vocabulary of a spoken language is just as important as learning its grammar. \n",
    "\n",
    "**Tip**: All of these exercises can be completed with the methods of the built-in types: str, int, float, list, tuple, set, dict.  **Go to https://docs.python.org/3/library/stdtypes.html for the documentation!**\n"
   ]
  },
  {
   "cell_type": "markdown",
   "metadata": {},
   "source": [
    "## Exercise 2: The Variable Subject\n",
    "\n",
    "You want to label your figure title with the subject code, and the subject code changes depending on which subject is being shown!  How could you stick a subject's name in your title string?"
   ]
  },
  {
   "cell_type": "code",
   "execution_count": 19,
   "metadata": {
    "collapsed": false
   },
   "outputs": [],
   "source": [
    "subject = 'NOP234'\n",
    "title = \"Mean Values of SUBJECT NAME's data over Time\""
   ]
  },
  {
   "cell_type": "markdown",
   "metadata": {},
   "source": [
    "If you had formatted your title string in the following way, though, another string method would be more useful.  Which one would you use for this title:"
   ]
  },
  {
   "cell_type": "code",
   "execution_count": 21,
   "metadata": {
    "collapsed": true
   },
   "outputs": [],
   "source": [
    "subject1 = 'NOP234'\n",
    "subject2 = 'GHS673'\n",
    "title = \"Performance Comparison between Subjects {} and {}\""
   ]
  },
  {
   "cell_type": "markdown",
   "metadata": {},
   "source": [
    "## Exercise 3: The Wrong Type\n",
    "\n",
    "Your colleague sent you the data you needed, but in the text of an email!  Seriously, who sends data like that, it's ridiculous!  Well, now you need to make a list of numbers out of it.  How do you do that without typing them by hand?"
   ]
  },
  {
   "cell_type": "code",
   "execution_count": 22,
   "metadata": {
    "collapsed": true
   },
   "outputs": [],
   "source": [
    "strdata = '12 40 89 100 41.2 41.2 0.45 1.1'"
   ]
  },
  {
   "cell_type": "markdown",
   "metadata": {},
   "source": [
    "## Exercise 4: One more time!\n",
    "\n",
    "You have a list of subjects, and you want to add another one!  How do you do it?"
   ]
  },
  {
   "cell_type": "code",
   "execution_count": 25,
   "metadata": {
    "collapsed": false
   },
   "outputs": [],
   "source": [
    "subjects = ['NOP234', 'GHS673', 'JGL212']\n",
    "new_subject = 'ASF193'"
   ]
  },
  {
   "cell_type": "markdown",
   "metadata": {},
   "source": [
    "## Exercise 5: Lots at once!\n",
    "\n",
    "Now, a bunch of new subjcts appeared!  How do you add them to the main list?"
   ]
  },
  {
   "cell_type": "code",
   "execution_count": 27,
   "metadata": {
    "collapsed": false
   },
   "outputs": [],
   "source": [
    "subjects = ['NOP234', 'GHS673', 'JGL212']\n",
    "new_subjects = ['ASF193', 'THW994', 'JJZ231']"
   ]
  },
  {
   "cell_type": "markdown",
   "metadata": {},
   "source": [
    "## Exercise 6: Nice and Neat\n",
    "\n",
    "Please put those subjects in alphabetical order.  It looks better that way, doesn't it?"
   ]
  },
  {
   "cell_type": "code",
   "execution_count": 28,
   "metadata": {
    "collapsed": true
   },
   "outputs": [],
   "source": [
    "subjects = ['NOP234', 'GHS673', 'JGL212', 'ASF193', 'THW994', 'JJZ231']"
   ]
  },
  {
   "cell_type": "markdown",
   "metadata": {},
   "source": [
    "## Exercise 7: The Bad Subject\n",
    "\n",
    "Oh, no, 'JGL202' was a terrible subject, he intentionally ruined your study.  Well, there's no way you're keeping him.  How do you remove him from the list?"
   ]
  },
  {
   "cell_type": "code",
   "execution_count": 30,
   "metadata": {
    "collapsed": true
   },
   "outputs": [],
   "source": [
    "subjects = ['NOP234', 'GHS673', 'JGL212', 'ASF193', 'THW994', 'JJZ231']"
   ]
  },
  {
   "cell_type": "markdown",
   "metadata": {},
   "source": [
    "## Exercise 8: The Limited Abstract\n",
    "\n",
    "The conference says it only takes abstracts that have a maximum word count of 100 words.  Did our abstract make the cut?  \n",
    "\n",
    "**hint: the len() function is useful here**"
   ]
  },
  {
   "cell_type": "code",
   "execution_count": 43,
   "metadata": {
    "collapsed": false
   },
   "outputs": [],
   "source": [
    "abstract = \"\"\"We analyze the locomotor behavior of the rat during exploration, \n",
    "and show that digitally collected data (time series of positions) \n",
    "provide a sufftcient basis for establishing that the rat uses several distinct modes of motion (first, second, \n",
    "third, and sometimes fourth gear). The distinction between these modes is obtained by first segmenting the \n",
    "time series into sequences of data points occurring between arrests (as ascertained within the resolution of \n",
    "the data acquisition system). The statistical distribution of the maximal amount of motion occurring within \n",
    "each of these episodes is then analyzed and shown to be multi modal. This enables us to decompose motion into \n",
    "distinct modes.\"\"\"\n"
   ]
  },
  {
   "cell_type": "markdown",
   "metadata": {},
   "source": [
    "Oh, wait, now that I look closer, it actually says that it's a maximum of 100 **unique** words--duplicated words don't count.  How many unique words do we have in our abstract?  (What a strange conference...)\n",
    "\n",
    "**Hint**: There is a useful class for this..."
   ]
  },
  {
   "cell_type": "code",
   "execution_count": null,
   "metadata": {
    "collapsed": true
   },
   "outputs": [],
   "source": []
  },
  {
   "cell_type": "markdown",
   "metadata": {},
   "source": [
    "## Exercise 9: The Balloon Seller\n",
    "\n",
    "A balloon seller (oops, I mean the balloon Scientist!) is giving out free balloons to all the, umm, researchers in the neighborhood.  He has three balloons, and wants to give them to Jenny, Manny, and Benny.  \n",
    "\n",
    "How can he assign them to them one at a time?"
   ]
  },
  {
   "cell_type": "code",
   "execution_count": null,
   "metadata": {
    "collapsed": true
   },
   "outputs": [],
   "source": [
    "balloons = ['red', 'blue', 'green']\n",
    "jenny = \n",
    "manny = \n",
    "benny ="
   ]
  },
  {
   "cell_type": "markdown",
   "metadata": {},
   "source": [
    "Of course, he could have given them all out in a single step.  How?"
   ]
  },
  {
   "cell_type": "code",
   "execution_count": 44,
   "metadata": {
    "collapsed": true
   },
   "outputs": [],
   "source": [
    "balloons = ['red', 'blue', 'green']\n"
   ]
  },
  {
   "cell_type": "code",
   "execution_count": null,
   "metadata": {
    "collapsed": true
   },
   "outputs": [],
   "source": []
  }
 ],
 "metadata": {
  "kernelspec": {
   "display_name": "Python 3",
   "language": "python",
   "name": "python3"
  },
  "language_info": {
   "codemirror_mode": {
    "name": "ipython",
    "version": 3
   },
   "file_extension": ".py",
   "mimetype": "text/x-python",
   "name": "python",
   "nbconvert_exporter": "python",
   "pygments_lexer": "ipython3",
   "version": "3.4.3"
  }
 },
 "nbformat": 4,
 "nbformat_minor": 0
}
