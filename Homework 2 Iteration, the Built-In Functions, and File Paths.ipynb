{
 "cells": [
  {
   "cell_type": "markdown",
   "metadata": {},
   "source": [
    "# Homework 2: Iteration, the Built-In Functions, and File Paths"
   ]
  },
  {
   "cell_type": "markdown",
   "metadata": {},
   "source": [
    "# Indexing Exercises\n",
    "\n",
    "Using the example dataset, select only the described elements from each list"
   ]
  },
  {
   "cell_type": "code",
   "execution_count": 119,
   "metadata": {
    "collapsed": true
   },
   "outputs": [],
   "source": [
    "scores = [0.2, 0.3, 0.9, 1.1, 2.2, 2.9, 0.0, 0.7, 1.3, 0.3, 0.5, 0.1, 0.0]"
   ]
  },
  {
   "cell_type": "markdown",
   "metadata": {},
   "source": [
    "1) The third score"
   ]
  },
  {
   "cell_type": "code",
   "execution_count": null,
   "metadata": {
    "collapsed": true
   },
   "outputs": [],
   "source": []
  },
  {
   "cell_type": "markdown",
   "metadata": {},
   "source": [
    "2) The last score"
   ]
  },
  {
   "cell_type": "code",
   "execution_count": null,
   "metadata": {
    "collapsed": true
   },
   "outputs": [],
   "source": []
  },
  {
   "cell_type": "markdown",
   "metadata": {},
   "source": [
    "3) The 2nd through 5th score"
   ]
  },
  {
   "cell_type": "code",
   "execution_count": null,
   "metadata": {
    "collapsed": true
   },
   "outputs": [],
   "source": []
  },
  {
   "cell_type": "markdown",
   "metadata": {},
   "source": [
    "4) Every second score (the first, third, fifth, etc)"
   ]
  },
  {
   "cell_type": "code",
   "execution_count": null,
   "metadata": {
    "collapsed": true
   },
   "outputs": [],
   "source": []
  },
  {
   "cell_type": "markdown",
   "metadata": {},
   "source": [
    "5) Every score after the 4th score"
   ]
  },
  {
   "cell_type": "code",
   "execution_count": null,
   "metadata": {
    "collapsed": true
   },
   "outputs": [],
   "source": []
  },
  {
   "cell_type": "markdown",
   "metadata": {},
   "source": [
    "6) Every second score from the 2nd to the 8th."
   ]
  },
  {
   "cell_type": "code",
   "execution_count": null,
   "metadata": {
    "collapsed": true
   },
   "outputs": [],
   "source": []
  },
  {
   "cell_type": "markdown",
   "metadata": {},
   "source": [
    "# Pure Iteration Exercises\n",
    "\n",
    "These exercises don't have anything to do with the files.  Each exercise stands alone!"
   ]
  },
  {
   "cell_type": "markdown",
   "metadata": {},
   "source": [
    "## Exercise 6: A List of Squares\n",
    "\n",
    "Calculate the square of each integer from 0 to 30, and put those squares in a list.  \n",
    "\n",
    "ex) squares = [0, 1, 4, 9, 16, ...]"
   ]
  },
  {
   "cell_type": "code",
   "execution_count": null,
   "metadata": {
    "collapsed": true
   },
   "outputs": [],
   "source": []
  },
  {
   "cell_type": "markdown",
   "metadata": {},
   "source": [
    "## Exercise 7: Calculating the Mean\n",
    "Without importing any python packages, how could you compute the mean of a list of numbers?"
   ]
  },
  {
   "cell_type": "code",
   "execution_count": 99,
   "metadata": {
    "collapsed": true
   },
   "outputs": [],
   "source": [
    "data = [0.3, 0.2, 2.5, 0.6, 1.5, 0.1, 0.7, 0.5, 1.9, 2.1]"
   ]
  },
  {
   "cell_type": "markdown",
   "metadata": {},
   "source": [
    "## Exercise 8: Summing two Lists\n",
    "\n",
    "Make a new list that is the sum of the elements in listA and listB.  "
   ]
  },
  {
   "cell_type": "code",
   "execution_count": 85,
   "metadata": {
    "collapsed": true
   },
   "outputs": [],
   "source": [
    "lista = [2, 3, 4, 5, 0, 0, 0, 2, 2, 0]\n",
    "listb = [0, 4, 2, 4, 5, 1, 0, 5, 3, 5]"
   ]
  },
  {
   "cell_type": "markdown",
   "metadata": {},
   "source": [
    "## Exercise 9: More Descriptive Labels\n",
    "\n",
    "You have a list of single-charachter strings that represent conditions in your experiment: 'L', 'R', and 'C'.  You want to change those labels to full words so they are easier to read and understand, to 'Left', 'Right', and 'Center'.   How could you go about it?\n",
    "\n",
    "**Hint**: A dictionary may be very useful here."
   ]
  },
  {
   "cell_type": "code",
   "execution_count": 108,
   "metadata": {
    "collapsed": true
   },
   "outputs": [],
   "source": [
    "conds = ['C', 'A', 'C', 'B', 'C', 'C', 'C', 'B', 'B', 'B']\n"
   ]
  },
  {
   "cell_type": "markdown",
   "metadata": {},
   "source": [
    "## Exercise 10: Mean of Each Condition\n",
    "\n",
    "Now you have two lists: a list of what group each patient was in, and a list of their performance scores.  Calculate the mean of each group's scores and put the means into a dictionary\n",
    "\n",
    "**Sample**: means = {'A': 2.1, 'B': 4.2}"
   ]
  },
  {
   "cell_type": "code",
   "execution_count": 107,
   "metadata": {
    "collapsed": true
   },
   "outputs": [],
   "source": [
    "groups = ['A', 'B', 'B', 'A', 'B', 'B', 'B', 'B', 'A', 'A']\n",
    "scores = [0.2, 0.3, 0.9, 1.1, 2.2, 2.9, 0.0, 0.7, 1.3, 0.3]\n"
   ]
  },
  {
   "cell_type": "markdown",
   "metadata": {},
   "source": [
    "## Exercise 11: Get the Public Functions\n",
    "\n",
    "The dir() function returns a list of strings!  Use list comprehension to make a new list that contains only the names that don't begin with an underscore."
   ]
  },
  {
   "cell_type": "code",
   "execution_count": null,
   "metadata": {
    "collapsed": true
   },
   "outputs": [],
   "source": []
  },
  {
   "cell_type": "markdown",
   "metadata": {},
   "source": [
    "## File Paths\n",
    "\n",
    "Soon, we will be loading data and analyzing it!  To tell Python which file to load, though, we need to be able to give it the full filename.  Filenames are composed of three elements:\n",
    "\n",
    "  - The **Directory**: Which folder on our computer the file can be found in.\n",
    "     - **Absolute Directories** say the exact folder location, no matter where Python is being run from. \n",
    "       - In Windows: 'C:\\\\Users\\NickDG\\Desktop\\MyExperiment\\Data'\n",
    "       - In Mac/Linux: '/usr/Desktop/MyExperiment/Data'\n",
    "     - **Relative Directories** are the address relative to where the program is being run.  This can be convenient when you know that a directory is, for example, found in the same location as the program.\n",
    "       - If this Python is being run from 'C://Users/NickDG/Desktop/MyExperiment' in Windows, I could simply give the directory name 'Data/'!\n",
    "       \n",
    "  - The **Base File Name**: The name of your file.  \n",
    "     - 'data121.mat' has the base name 'data121'\n",
    "  - The **Extension**: the part of the filename that tells you what *kind* of file type it is.\n",
    "     - 'data121.mat' has the extension '.mat'\n",
    "     \n",
    "While these filenames are basically strings in Python, working with them is such a common activity that Python has included specific packages to make it easy and reliable.  These packages are **os**, **os.path**, and **glob**\n",
    "\n",
    "To Import these packages into Python:"
   ]
  },
  {
   "cell_type": "code",
   "execution_count": 109,
   "metadata": {
    "collapsed": false
   },
   "outputs": [],
   "source": [
    "import os\n",
    "from os import path\n",
    "import glob"
   ]
  },
  {
   "cell_type": "markdown",
   "metadata": {},
   "source": [
    "We haven't discussed using packages yet in class, but I hope you'll find them not so bad after our discussion of dot notation on the first day!  To review the practical side:\n",
    "  - The dir() function on a package will give you a list of everything in a package.  This may seem like a long list sometimes, but you can safely ignore everything that starts with an underscore (and in this case anything that is all capital letters) which narrows the list by a lot.\n",
    "     -ex: dir(path)\n",
    "  - In the notebook and IPython, you can simply press the Tab key after getting to the dot to bring up a filtered list of functions. \n",
    "     -ex: path.\n",
    "\n",
    "\n",
    "Usage examples Below:"
   ]
  },
  {
   "cell_type": "code",
   "execution_count": 3,
   "metadata": {
    "collapsed": false
   },
   "outputs": [
    {
     "data": {
      "text/plain": [
       "'/home/nickdg/Dropbox/Teaching/Pzthon Course/Notebooks'"
      ]
     },
     "execution_count": 3,
     "metadata": {},
     "output_type": "execute_result"
    }
   ],
   "source": [
    "os.getcwd()"
   ]
  },
  {
   "cell_type": "code",
   "execution_count": 4,
   "metadata": {
    "collapsed": false
   },
   "outputs": [
    {
     "data": {
      "text/plain": [
       "('data121', '.mat')"
      ]
     },
     "execution_count": 4,
     "metadata": {},
     "output_type": "execute_result"
    }
   ],
   "source": [
    "path.splitext('data121.mat')"
   ]
  },
  {
   "cell_type": "code",
   "execution_count": 112,
   "metadata": {
    "collapsed": false
   },
   "outputs": [
    {
     "data": {
      "text/plain": [
       "['Python Course Lecture 1.ipynb',\n",
       " 'Homework Sample Data',\n",
       " 'README.md',\n",
       " 'Python Course Lecture 2.ipynb',\n",
       " 'Homework 1 Jupyter Notebook and Builtin Type Methods.ipynb',\n",
       " 'Homework 2 Iteration, the Built-In Functions, and File Paths.ipynb']"
      ]
     },
     "execution_count": 112,
     "metadata": {},
     "output_type": "execute_result"
    }
   ],
   "source": [
    "# The glob() function is pretty much the only function you need from the glob package (Confusing naming, I know.)\n",
    "glob.glob('*')"
   ]
  },
  {
   "cell_type": "markdown",
   "metadata": {},
   "source": [
    "### To learn how to build and parse filenames in order to complete the exercises,  Read the file handling Tutorial which covers the os, path, and glob packages at the link below and review the packages' documentation\n",
    "\n",
    "Tutorial: http://www.diveintopython.net/file_handling/os_module.html\n",
    "\n",
    "os Documentation: https://docs.python.org/2/library/os.html\n",
    "\n",
    "os.path Documentation: https://docs.python.org/2/library/os.path.html"
   ]
  },
  {
   "cell_type": "markdown",
   "metadata": {},
   "source": [
    "# Filename and Iteration Exercises\n",
    "\n",
    "To complete the exercises, first run the following code cell in order to generate a sample directory with empty datafiles.  If you get stuck, the **Pure Iteration Exercises** section below is a bit easier and focuses only on material covered on the lecture:\n",
    "\n",
    "**Warning:** The following code cell creates files on your computer! This can be a dangerous thing to do with untrusted code, so make sure you understand the code before running it! \n",
    "\n",
    "**Note:** This code uses a new class, the **file** class, which represents a file object.  A short file creation/reading/handling tutorial can be found at http://www.python-course.eu/python3_file_management.php"
   ]
  },
  {
   "cell_type": "markdown",
   "metadata": {},
   "source": [
    "### Generate Sample Data"
   ]
  },
  {
   "cell_type": "code",
   "execution_count": 71,
   "metadata": {
    "collapsed": false
   },
   "outputs": [],
   "source": [
    "from random import randint, choice\n",
    "\n",
    "# Make a new file directory.\n",
    "data_dir = path.join('Homework Sample Data', 'Homework 2')\n",
    "os.makedirs(data_dir)\n",
    "    \n",
    "# Fill the directory with empty files named random things\n",
    "nfiles = 30\n",
    "for datafile in range(nfiles):\n",
    "    filename = 'data{num}.{ext}'.format(num=randint(0, 100000), ext=choice(['txt', 'mat']))\n",
    "    newfile = open(path.join(data_dir, filename), 'a')\n",
    "    newfile.close()\n",
    "        \n"
   ]
  },
  {
   "cell_type": "markdown",
   "metadata": {},
   "source": [
    "## Exercise 1\n",
    "Make a list of all the sample data filenames that end in \".txt\" and calculate how many .txt files there are."
   ]
  },
  {
   "cell_type": "code",
   "execution_count": null,
   "metadata": {
    "collapsed": true
   },
   "outputs": [],
   "source": []
  },
  {
   "cell_type": "markdown",
   "metadata": {},
   "source": [
    "## Exercise 2\n",
    "\n",
    "Make a list of all the data filenames, without their file extensions.\n",
    "\n",
    "ex) ['data2432', 'data2232', 'data8382', ...]"
   ]
  },
  {
   "cell_type": "code",
   "execution_count": null,
   "metadata": {
    "collapsed": true
   },
   "outputs": [],
   "source": []
  },
  {
   "cell_type": "markdown",
   "metadata": {},
   "source": [
    "## Exercise 3\n",
    "How many data files have the number 7 in their name?"
   ]
  },
  {
   "cell_type": "code",
   "execution_count": null,
   "metadata": {
    "collapsed": true
   },
   "outputs": [],
   "source": []
  },
  {
   "cell_type": "markdown",
   "metadata": {},
   "source": [
    "## Exercise 4\n",
    "\n",
    "Make two new folders inside the \"Homework 2\" folder, one called \"mat files\" and one called \"txt files\".  Move the files with the .txt extension to the \"txt files\" folder and the files with the .mat extension to the \"mat files\" folder."
   ]
  },
  {
   "cell_type": "markdown",
   "metadata": {},
   "source": [
    "## Exercise 5\n",
    "\n",
    "Print the index and name of each .mat file using the example format string"
   ]
  },
  {
   "cell_type": "code",
   "execution_count": 78,
   "metadata": {
    "collapsed": true
   },
   "outputs": [],
   "source": [
    "fmt_string = \"File Number {} is named {}!\""
   ]
  }
 ],
 "metadata": {
  "kernelspec": {
   "display_name": "Python 2",
   "language": "python",
   "name": "python2"
  },
  "language_info": {
   "codemirror_mode": {
    "name": "ipython",
    "version": 2
   },
   "file_extension": ".py",
   "mimetype": "text/x-python",
   "name": "python",
   "nbconvert_exporter": "python",
   "pygments_lexer": "ipython2",
   "version": "2.7.6"
  }
 },
 "nbformat": 4,
 "nbformat_minor": 0
}
