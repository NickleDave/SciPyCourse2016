{
 "cells": [
  {
   "cell_type": "code",
   "execution_count": 27,
   "metadata": {
    "collapsed": true,
    "slideshow": {
     "slide_type": "skip"
    }
   },
   "outputs": [],
   "source": [
    "%matplotlib notebook"
   ]
  },
  {
   "cell_type": "code",
   "execution_count": 2,
   "metadata": {
    "collapsed": true,
    "slideshow": {
     "slide_type": "skip"
    }
   },
   "outputs": [],
   "source": [
    "import matplotlib.pyplot as plt\n",
    "import pandas as pd\n"
   ]
  },
  {
   "cell_type": "code",
   "execution_count": 3,
   "metadata": {
    "collapsed": true,
    "slideshow": {
     "slide_type": "skip"
    }
   },
   "outputs": [],
   "source": [
    "plt.style.use('ggplot')"
   ]
  },
  {
   "cell_type": "code",
   "execution_count": 4,
   "metadata": {
    "collapsed": true,
    "slideshow": {
     "slide_type": "skip"
    }
   },
   "outputs": [],
   "source": [
    "from IPython.display import Image, HTML"
   ]
  },
  {
   "cell_type": "markdown",
   "metadata": {
    "slideshow": {
     "slide_type": "slide"
    }
   },
   "source": [
    "# Introduction to Scientific Programming in Python\n",
    "\n",
    "## Lecture 1"
   ]
  },
  {
   "cell_type": "markdown",
   "metadata": {
    "slideshow": {
     "slide_type": "slide"
    }
   },
   "source": [
    "# For the Course, You Need:\n",
    "\n",
    "  - A laptop computer with **Python 3** installed\n",
    "  - The following Python packages installed (taken care of if Anaconda was installed):\n",
    "    - **NumPy**  (import numpy)\n",
    "    - **Pandas**  (import pandas)\n",
    "    - **Scipy**  (import scipy)\n",
    "    - **Matplotlib**  (import matplotlib)\n",
    "  - **IPython** and **Jupyter Notebook** should be installed"
   ]
  },
  {
   "cell_type": "markdown",
   "metadata": {
    "slideshow": {
     "slide_type": "subslide"
    }
   },
   "source": [
    "# Course Expectations\n",
    "\n",
    "By the end of the course, you should:\n",
    "  - be familiar with core programming concepts and approaches to solving problems.\n",
    "  - be familiar with the core tools in python for performing scientific analysis.\n",
    "  - be comfortable discovering and using new python packages beyond the core tools."
   ]
  },
  {
   "cell_type": "markdown",
   "metadata": {
    "slideshow": {
     "slide_type": "subslide"
    }
   },
   "source": [
    "## Course Plan\n",
    "  - **Weeks 1-2**: Core Python Review and Intro to IPython and Jupyter Notebook\n",
    "  - **Weeks 3-4**: Building Matrices in NumPy\n",
    "  - **Weeks 5-6**: Reading Data Files and Plotting in Matplotlib\n",
    "  - **Weeks 7-8**: Building DataFrames and Plotting in Pandas and Seaborn\n",
    "  - **Week 9**: Statistics in Scipy Stats\n",
    "  - **Week 10**: Review and Group Presentations\n",
    "  \n",
    "Reach Goals: Statistical Modeling in statsmodels, psych stimulus experiments in PsychoPy"
   ]
  },
  {
   "cell_type": "markdown",
   "metadata": {
    "slideshow": {
     "slide_type": "slide"
    }
   },
   "source": [
    "# What is Python?\n",
    "\n",
    "## Python is a General-Purpose Scripting Language"
   ]
  },
  {
   "cell_type": "code",
   "execution_count": 72,
   "metadata": {
    "collapsed": false
   },
   "outputs": [
    {
     "name": "stdout",
     "output_type": "stream",
     "text": [
      "In fact, this presentation is being run in Python!\n"
     ]
    },
    {
     "data": {
      "text/html": [
       "<img src=\"https://upload.wikimedia.org/wikipedia/commons/thumb/c/c3/Python-logo-notext.svg/1024px-Python-logo-notext.svg.png\" width=\"200\"/>"
      ],
      "text/plain": [
       "<IPython.core.display.Image object>"
      ]
     },
     "execution_count": 72,
     "metadata": {},
     "output_type": "execute_result"
    }
   ],
   "source": [
    "print('In fact, this presentation is being run in Python!')\n",
    "\n",
    "Image(url='https://upload.wikimedia.org/wikipedia/commons/thumb/c/c3/Python-logo-notext.svg/1024px-Python-logo-notext.svg.png',\n",
    "     width=200)\n",
    "\n"
   ]
  },
  {
   "cell_type": "markdown",
   "metadata": {
    "slideshow": {
     "slide_type": "subslide"
    }
   },
   "source": [
    "## General Purpose\n",
    "  - Quicker Learning: Easy to Perform Different Tasks in the Same Environment\n",
    "  - Code Complexity doesn't change when your task changes\n",
    "  \n",
    "## Scripting Language\n",
    "  - Code compiles down to additional intermediate programming languages before running.\n",
    "  - Makes code easier to read, often at the cost of performance.\n",
    "  - Human Time is often more valuable than Computer Time\n",
    "  - CPython vs Jython vs PyPy"
   ]
  },
  {
   "cell_type": "markdown",
   "metadata": {
    "slideshow": {
     "slide_type": "subslide"
    }
   },
   "source": [
    "# Quick Aside: Python vs Matlab\n",
    "\n",
    "(For More info, please see http://www.pyzo.org/_images/pythonvsmatlab.png)"
   ]
  },
  {
   "cell_type": "code",
   "execution_count": 63,
   "metadata": {
    "collapsed": false
   },
   "outputs": [
    {
     "data": {
      "text/html": [
       "<img src=\"http://www.pyzo.org/_images/pythonvsmatlab.png\" width=\"1000\"/>"
      ],
      "text/plain": [
       "<IPython.core.display.Image object>"
      ]
     },
     "execution_count": 63,
     "metadata": {},
     "output_type": "execute_result"
    }
   ],
   "source": [
    "Image(url='http://www.pyzo.org/_images/pythonvsmatlab.png',\n",
    "      width=1000)"
   ]
  },
  {
   "cell_type": "markdown",
   "metadata": {
    "slideshow": {
     "slide_type": "slide"
    }
   },
   "source": [
    "# Scientific Programming Exercise\n",
    "\n",
    "Scientific Programming is the combined set of tasks that scientists must perform to analyze and understand their data.  This includes, but is not limited to:\n",
    "  - Accessing Data\n",
    "  - Transforming Data\n",
    "  - Statistical Analysis of Data\n",
    "  - Plotting Data\n",
    "  - Creating Figures for Publication\n",
    "  \n",
    "**Take Home Message**: Scientific Programming is all about __scientific data__."
   ]
  },
  {
   "cell_type": "markdown",
   "metadata": {
    "slideshow": {
     "slide_type": "subslide"
    }
   },
   "source": [
    "# Informal Class Poll: Raise Your Hand If:\n"
   ]
  },
  {
   "cell_type": "markdown",
   "metadata": {
    "slideshow": {
     "slide_type": "fragment"
    }
   },
   "source": [
    "##  You are a Bachelor's Student."
   ]
  },
  {
   "cell_type": "code",
   "execution_count": 88,
   "metadata": {
    "collapsed": true
   },
   "outputs": [],
   "source": [
    "education_level = {'bachelor': 3,\n",
    "                   'master': 10,\n",
    "                   'phd': 6,\n",
    "                   'postdoc': 3}"
   ]
  },
  {
   "cell_type": "markdown",
   "metadata": {
    "slideshow": {
     "slide_type": "fragment"
    }
   },
   "source": [
    "## Your laptop is running Windows."
   ]
  },
  {
   "cell_type": "code",
   "execution_count": 89,
   "metadata": {
    "collapsed": true
   },
   "outputs": [],
   "source": [
    "operating_system = {'windows': 7,\n",
    "                    'mac': 3,\n",
    "                    'linux': 1}"
   ]
  },
  {
   "cell_type": "markdown",
   "metadata": {
    "slideshow": {
     "slide_type": "subslide"
    }
   },
   "source": [
    "## Your Lab Uses Python"
   ]
  },
  {
   "cell_type": "code",
   "execution_count": 90,
   "metadata": {
    "collapsed": true
   },
   "outputs": [],
   "source": [
    "lab_languages = {'python': 10,\n",
    "                 'matlab': 5,\n",
    "                 'r': 1,\n",
    "                 'julia': 2,\n",
    "                 'other': 2}"
   ]
  },
  {
   "cell_type": "markdown",
   "metadata": {
    "slideshow": {
     "slide_type": "fragment"
    }
   },
   "source": [
    "## You Have Experience in Python."
   ]
  },
  {
   "cell_type": "code",
   "execution_count": 91,
   "metadata": {
    "collapsed": true
   },
   "outputs": [],
   "source": [
    "languages = {'python': 0,\n",
    "             'matlab': 3,\n",
    "             'r': 0,\n",
    "             'julia': 0,\n",
    "             'other': 0}"
   ]
  },
  {
   "cell_type": "code",
   "execution_count": 68,
   "metadata": {
    "collapsed": false,
    "slideshow": {
     "slide_type": "skip"
    }
   },
   "outputs": [
    {
     "data": {
      "application/javascript": [
       "/* Put everything inside the global mpl namespace */\n",
       "window.mpl = {};\n",
       "\n",
       "mpl.get_websocket_type = function() {\n",
       "    if (typeof(WebSocket) !== 'undefined') {\n",
       "        return WebSocket;\n",
       "    } else if (typeof(MozWebSocket) !== 'undefined') {\n",
       "        return MozWebSocket;\n",
       "    } else {\n",
       "        alert('Your browser does not have WebSocket support.' +\n",
       "              'Please try Chrome, Safari or Firefox ≥ 6. ' +\n",
       "              'Firefox 4 and 5 are also supported but you ' +\n",
       "              'have to enable WebSockets in about:config.');\n",
       "    };\n",
       "}\n",
       "\n",
       "mpl.figure = function(figure_id, websocket, ondownload, parent_element) {\n",
       "    this.id = figure_id;\n",
       "\n",
       "    this.ws = websocket;\n",
       "\n",
       "    this.supports_binary = (this.ws.binaryType != undefined);\n",
       "\n",
       "    if (!this.supports_binary) {\n",
       "        var warnings = document.getElementById(\"mpl-warnings\");\n",
       "        if (warnings) {\n",
       "            warnings.style.display = 'block';\n",
       "            warnings.textContent = (\n",
       "                \"This browser does not support binary websocket messages. \" +\n",
       "                    \"Performance may be slow.\");\n",
       "        }\n",
       "    }\n",
       "\n",
       "    this.imageObj = new Image();\n",
       "\n",
       "    this.context = undefined;\n",
       "    this.message = undefined;\n",
       "    this.canvas = undefined;\n",
       "    this.rubberband_canvas = undefined;\n",
       "    this.rubberband_context = undefined;\n",
       "    this.format_dropdown = undefined;\n",
       "\n",
       "    this.image_mode = 'full';\n",
       "\n",
       "    this.root = $('<div/>');\n",
       "    this._root_extra_style(this.root)\n",
       "    this.root.attr('style', 'display: inline-block');\n",
       "\n",
       "    $(parent_element).append(this.root);\n",
       "\n",
       "    this._init_header(this);\n",
       "    this._init_canvas(this);\n",
       "    this._init_toolbar(this);\n",
       "\n",
       "    var fig = this;\n",
       "\n",
       "    this.waiting = false;\n",
       "\n",
       "    this.ws.onopen =  function () {\n",
       "            fig.send_message(\"supports_binary\", {value: fig.supports_binary});\n",
       "            fig.send_message(\"send_image_mode\", {});\n",
       "            fig.send_message(\"refresh\", {});\n",
       "        }\n",
       "\n",
       "    this.imageObj.onload = function() {\n",
       "            if (fig.image_mode == 'full') {\n",
       "                // Full images could contain transparency (where diff images\n",
       "                // almost always do), so we need to clear the canvas so that\n",
       "                // there is no ghosting.\n",
       "                fig.context.clearRect(0, 0, fig.canvas.width, fig.canvas.height);\n",
       "            }\n",
       "            fig.context.drawImage(fig.imageObj, 0, 0);\n",
       "        };\n",
       "\n",
       "    this.imageObj.onunload = function() {\n",
       "        this.ws.close();\n",
       "    }\n",
       "\n",
       "    this.ws.onmessage = this._make_on_message_function(this);\n",
       "\n",
       "    this.ondownload = ondownload;\n",
       "}\n",
       "\n",
       "mpl.figure.prototype._init_header = function() {\n",
       "    var titlebar = $(\n",
       "        '<div class=\"ui-dialog-titlebar ui-widget-header ui-corner-all ' +\n",
       "        'ui-helper-clearfix\"/>');\n",
       "    var titletext = $(\n",
       "        '<div class=\"ui-dialog-title\" style=\"width: 100%; ' +\n",
       "        'text-align: center; padding: 3px;\"/>');\n",
       "    titlebar.append(titletext)\n",
       "    this.root.append(titlebar);\n",
       "    this.header = titletext[0];\n",
       "}\n",
       "\n",
       "\n",
       "\n",
       "mpl.figure.prototype._canvas_extra_style = function(canvas_div) {\n",
       "\n",
       "}\n",
       "\n",
       "\n",
       "mpl.figure.prototype._root_extra_style = function(canvas_div) {\n",
       "\n",
       "}\n",
       "\n",
       "mpl.figure.prototype._init_canvas = function() {\n",
       "    var fig = this;\n",
       "\n",
       "    var canvas_div = $('<div/>');\n",
       "\n",
       "    canvas_div.attr('style', 'position: relative; clear: both; outline: 0');\n",
       "\n",
       "    function canvas_keyboard_event(event) {\n",
       "        return fig.key_event(event, event['data']);\n",
       "    }\n",
       "\n",
       "    canvas_div.keydown('key_press', canvas_keyboard_event);\n",
       "    canvas_div.keyup('key_release', canvas_keyboard_event);\n",
       "    this.canvas_div = canvas_div\n",
       "    this._canvas_extra_style(canvas_div)\n",
       "    this.root.append(canvas_div);\n",
       "\n",
       "    var canvas = $('<canvas/>');\n",
       "    canvas.addClass('mpl-canvas');\n",
       "    canvas.attr('style', \"left: 0; top: 0; z-index: 0; outline: 0\")\n",
       "\n",
       "    this.canvas = canvas[0];\n",
       "    this.context = canvas[0].getContext(\"2d\");\n",
       "\n",
       "    var rubberband = $('<canvas/>');\n",
       "    rubberband.attr('style', \"position: absolute; left: 0; top: 0; z-index: 1;\")\n",
       "\n",
       "    var pass_mouse_events = true;\n",
       "\n",
       "    canvas_div.resizable({\n",
       "        start: function(event, ui) {\n",
       "            pass_mouse_events = false;\n",
       "        },\n",
       "        resize: function(event, ui) {\n",
       "            fig.request_resize(ui.size.width, ui.size.height);\n",
       "        },\n",
       "        stop: function(event, ui) {\n",
       "            pass_mouse_events = true;\n",
       "            fig.request_resize(ui.size.width, ui.size.height);\n",
       "        },\n",
       "    });\n",
       "\n",
       "    function mouse_event_fn(event) {\n",
       "        if (pass_mouse_events)\n",
       "            return fig.mouse_event(event, event['data']);\n",
       "    }\n",
       "\n",
       "    rubberband.mousedown('button_press', mouse_event_fn);\n",
       "    rubberband.mouseup('button_release', mouse_event_fn);\n",
       "    // Throttle sequential mouse events to 1 every 20ms.\n",
       "    rubberband.mousemove('motion_notify', mouse_event_fn);\n",
       "\n",
       "    rubberband.mouseenter('figure_enter', mouse_event_fn);\n",
       "    rubberband.mouseleave('figure_leave', mouse_event_fn);\n",
       "\n",
       "    canvas_div.on(\"wheel\", function (event) {\n",
       "        event = event.originalEvent;\n",
       "        event['data'] = 'scroll'\n",
       "        if (event.deltaY < 0) {\n",
       "            event.step = 1;\n",
       "        } else {\n",
       "            event.step = -1;\n",
       "        }\n",
       "        mouse_event_fn(event);\n",
       "    });\n",
       "\n",
       "    canvas_div.append(canvas);\n",
       "    canvas_div.append(rubberband);\n",
       "\n",
       "    this.rubberband = rubberband;\n",
       "    this.rubberband_canvas = rubberband[0];\n",
       "    this.rubberband_context = rubberband[0].getContext(\"2d\");\n",
       "    this.rubberband_context.strokeStyle = \"#000000\";\n",
       "\n",
       "    this._resize_canvas = function(width, height) {\n",
       "        // Keep the size of the canvas, canvas container, and rubber band\n",
       "        // canvas in synch.\n",
       "        canvas_div.css('width', width)\n",
       "        canvas_div.css('height', height)\n",
       "\n",
       "        canvas.attr('width', width);\n",
       "        canvas.attr('height', height);\n",
       "\n",
       "        rubberband.attr('width', width);\n",
       "        rubberband.attr('height', height);\n",
       "    }\n",
       "\n",
       "    // Set the figure to an initial 600x600px, this will subsequently be updated\n",
       "    // upon first draw.\n",
       "    this._resize_canvas(600, 600);\n",
       "\n",
       "    // Disable right mouse context menu.\n",
       "    $(this.rubberband_canvas).bind(\"contextmenu\",function(e){\n",
       "        return false;\n",
       "    });\n",
       "\n",
       "    function set_focus () {\n",
       "        canvas.focus();\n",
       "        canvas_div.focus();\n",
       "    }\n",
       "\n",
       "    window.setTimeout(set_focus, 100);\n",
       "}\n",
       "\n",
       "mpl.figure.prototype._init_toolbar = function() {\n",
       "    var fig = this;\n",
       "\n",
       "    var nav_element = $('<div/>')\n",
       "    nav_element.attr('style', 'width: 100%');\n",
       "    this.root.append(nav_element);\n",
       "\n",
       "    // Define a callback function for later on.\n",
       "    function toolbar_event(event) {\n",
       "        return fig.toolbar_button_onclick(event['data']);\n",
       "    }\n",
       "    function toolbar_mouse_event(event) {\n",
       "        return fig.toolbar_button_onmouseover(event['data']);\n",
       "    }\n",
       "\n",
       "    for(var toolbar_ind in mpl.toolbar_items) {\n",
       "        var name = mpl.toolbar_items[toolbar_ind][0];\n",
       "        var tooltip = mpl.toolbar_items[toolbar_ind][1];\n",
       "        var image = mpl.toolbar_items[toolbar_ind][2];\n",
       "        var method_name = mpl.toolbar_items[toolbar_ind][3];\n",
       "\n",
       "        if (!name) {\n",
       "            // put a spacer in here.\n",
       "            continue;\n",
       "        }\n",
       "        var button = $('<button/>');\n",
       "        button.addClass('ui-button ui-widget ui-state-default ui-corner-all ' +\n",
       "                        'ui-button-icon-only');\n",
       "        button.attr('role', 'button');\n",
       "        button.attr('aria-disabled', 'false');\n",
       "        button.click(method_name, toolbar_event);\n",
       "        button.mouseover(tooltip, toolbar_mouse_event);\n",
       "\n",
       "        var icon_img = $('<span/>');\n",
       "        icon_img.addClass('ui-button-icon-primary ui-icon');\n",
       "        icon_img.addClass(image);\n",
       "        icon_img.addClass('ui-corner-all');\n",
       "\n",
       "        var tooltip_span = $('<span/>');\n",
       "        tooltip_span.addClass('ui-button-text');\n",
       "        tooltip_span.html(tooltip);\n",
       "\n",
       "        button.append(icon_img);\n",
       "        button.append(tooltip_span);\n",
       "\n",
       "        nav_element.append(button);\n",
       "    }\n",
       "\n",
       "    var fmt_picker_span = $('<span/>');\n",
       "\n",
       "    var fmt_picker = $('<select/>');\n",
       "    fmt_picker.addClass('mpl-toolbar-option ui-widget ui-widget-content');\n",
       "    fmt_picker_span.append(fmt_picker);\n",
       "    nav_element.append(fmt_picker_span);\n",
       "    this.format_dropdown = fmt_picker[0];\n",
       "\n",
       "    for (var ind in mpl.extensions) {\n",
       "        var fmt = mpl.extensions[ind];\n",
       "        var option = $(\n",
       "            '<option/>', {selected: fmt === mpl.default_extension}).html(fmt);\n",
       "        fmt_picker.append(option)\n",
       "    }\n",
       "\n",
       "    // Add hover states to the ui-buttons\n",
       "    $( \".ui-button\" ).hover(\n",
       "        function() { $(this).addClass(\"ui-state-hover\");},\n",
       "        function() { $(this).removeClass(\"ui-state-hover\");}\n",
       "    );\n",
       "\n",
       "    var status_bar = $('<span class=\"mpl-message\"/>');\n",
       "    nav_element.append(status_bar);\n",
       "    this.message = status_bar[0];\n",
       "}\n",
       "\n",
       "mpl.figure.prototype.request_resize = function(x_pixels, y_pixels) {\n",
       "    // Request matplotlib to resize the figure. Matplotlib will then trigger a resize in the client,\n",
       "    // which will in turn request a refresh of the image.\n",
       "    this.send_message('resize', {'width': x_pixels, 'height': y_pixels});\n",
       "}\n",
       "\n",
       "mpl.figure.prototype.send_message = function(type, properties) {\n",
       "    properties['type'] = type;\n",
       "    properties['figure_id'] = this.id;\n",
       "    this.ws.send(JSON.stringify(properties));\n",
       "}\n",
       "\n",
       "mpl.figure.prototype.send_draw_message = function() {\n",
       "    if (!this.waiting) {\n",
       "        this.waiting = true;\n",
       "        this.ws.send(JSON.stringify({type: \"draw\", figure_id: this.id}));\n",
       "    }\n",
       "}\n",
       "\n",
       "\n",
       "mpl.figure.prototype.handle_save = function(fig, msg) {\n",
       "    var format_dropdown = fig.format_dropdown;\n",
       "    var format = format_dropdown.options[format_dropdown.selectedIndex].value;\n",
       "    fig.ondownload(fig, format);\n",
       "}\n",
       "\n",
       "\n",
       "mpl.figure.prototype.handle_resize = function(fig, msg) {\n",
       "    var size = msg['size'];\n",
       "    if (size[0] != fig.canvas.width || size[1] != fig.canvas.height) {\n",
       "        fig._resize_canvas(size[0], size[1]);\n",
       "        fig.send_message(\"refresh\", {});\n",
       "    };\n",
       "}\n",
       "\n",
       "mpl.figure.prototype.handle_rubberband = function(fig, msg) {\n",
       "    var x0 = msg['x0'];\n",
       "    var y0 = fig.canvas.height - msg['y0'];\n",
       "    var x1 = msg['x1'];\n",
       "    var y1 = fig.canvas.height - msg['y1'];\n",
       "    x0 = Math.floor(x0) + 0.5;\n",
       "    y0 = Math.floor(y0) + 0.5;\n",
       "    x1 = Math.floor(x1) + 0.5;\n",
       "    y1 = Math.floor(y1) + 0.5;\n",
       "    var min_x = Math.min(x0, x1);\n",
       "    var min_y = Math.min(y0, y1);\n",
       "    var width = Math.abs(x1 - x0);\n",
       "    var height = Math.abs(y1 - y0);\n",
       "\n",
       "    fig.rubberband_context.clearRect(\n",
       "        0, 0, fig.canvas.width, fig.canvas.height);\n",
       "\n",
       "    fig.rubberband_context.strokeRect(min_x, min_y, width, height);\n",
       "}\n",
       "\n",
       "mpl.figure.prototype.handle_figure_label = function(fig, msg) {\n",
       "    // Updates the figure title.\n",
       "    fig.header.textContent = msg['label'];\n",
       "}\n",
       "\n",
       "mpl.figure.prototype.handle_cursor = function(fig, msg) {\n",
       "    var cursor = msg['cursor'];\n",
       "    switch(cursor)\n",
       "    {\n",
       "    case 0:\n",
       "        cursor = 'pointer';\n",
       "        break;\n",
       "    case 1:\n",
       "        cursor = 'default';\n",
       "        break;\n",
       "    case 2:\n",
       "        cursor = 'crosshair';\n",
       "        break;\n",
       "    case 3:\n",
       "        cursor = 'move';\n",
       "        break;\n",
       "    }\n",
       "    fig.rubberband_canvas.style.cursor = cursor;\n",
       "}\n",
       "\n",
       "mpl.figure.prototype.handle_message = function(fig, msg) {\n",
       "    fig.message.textContent = msg['message'];\n",
       "}\n",
       "\n",
       "mpl.figure.prototype.handle_draw = function(fig, msg) {\n",
       "    // Request the server to send over a new figure.\n",
       "    fig.send_draw_message();\n",
       "}\n",
       "\n",
       "mpl.figure.prototype.handle_image_mode = function(fig, msg) {\n",
       "    fig.image_mode = msg['mode'];\n",
       "}\n",
       "\n",
       "mpl.figure.prototype.updated_canvas_event = function() {\n",
       "    // Called whenever the canvas gets updated.\n",
       "    this.send_message(\"ack\", {});\n",
       "}\n",
       "\n",
       "// A function to construct a web socket function for onmessage handling.\n",
       "// Called in the figure constructor.\n",
       "mpl.figure.prototype._make_on_message_function = function(fig) {\n",
       "    return function socket_on_message(evt) {\n",
       "        if (evt.data instanceof Blob) {\n",
       "            /* FIXME: We get \"Resource interpreted as Image but\n",
       "             * transferred with MIME type text/plain:\" errors on\n",
       "             * Chrome.  But how to set the MIME type?  It doesn't seem\n",
       "             * to be part of the websocket stream */\n",
       "            evt.data.type = \"image/png\";\n",
       "\n",
       "            /* Free the memory for the previous frames */\n",
       "            if (fig.imageObj.src) {\n",
       "                (window.URL || window.webkitURL).revokeObjectURL(\n",
       "                    fig.imageObj.src);\n",
       "            }\n",
       "\n",
       "            fig.imageObj.src = (window.URL || window.webkitURL).createObjectURL(\n",
       "                evt.data);\n",
       "            fig.updated_canvas_event();\n",
       "            fig.waiting = false;\n",
       "            return;\n",
       "        }\n",
       "        else if (typeof evt.data === 'string' && evt.data.slice(0, 21) == \"data:image/png;base64\") {\n",
       "            fig.imageObj.src = evt.data;\n",
       "            fig.updated_canvas_event();\n",
       "            fig.waiting = false;\n",
       "            return;\n",
       "        }\n",
       "\n",
       "        var msg = JSON.parse(evt.data);\n",
       "        var msg_type = msg['type'];\n",
       "\n",
       "        // Call the  \"handle_{type}\" callback, which takes\n",
       "        // the figure and JSON message as its only arguments.\n",
       "        try {\n",
       "            var callback = fig[\"handle_\" + msg_type];\n",
       "        } catch (e) {\n",
       "            console.log(\"No handler for the '\" + msg_type + \"' message type: \", msg);\n",
       "            return;\n",
       "        }\n",
       "\n",
       "        if (callback) {\n",
       "            try {\n",
       "                // console.log(\"Handling '\" + msg_type + \"' message: \", msg);\n",
       "                callback(fig, msg);\n",
       "            } catch (e) {\n",
       "                console.log(\"Exception inside the 'handler_\" + msg_type + \"' callback:\", e, e.stack, msg);\n",
       "            }\n",
       "        }\n",
       "    };\n",
       "}\n",
       "\n",
       "// from http://stackoverflow.com/questions/1114465/getting-mouse-location-in-canvas\n",
       "mpl.findpos = function(e) {\n",
       "    //this section is from http://www.quirksmode.org/js/events_properties.html\n",
       "    var targ;\n",
       "    if (!e)\n",
       "        e = window.event;\n",
       "    if (e.target)\n",
       "        targ = e.target;\n",
       "    else if (e.srcElement)\n",
       "        targ = e.srcElement;\n",
       "    if (targ.nodeType == 3) // defeat Safari bug\n",
       "        targ = targ.parentNode;\n",
       "\n",
       "    // jQuery normalizes the pageX and pageY\n",
       "    // pageX,Y are the mouse positions relative to the document\n",
       "    // offset() returns the position of the element relative to the document\n",
       "    var x = e.pageX - $(targ).offset().left;\n",
       "    var y = e.pageY - $(targ).offset().top;\n",
       "\n",
       "    return {\"x\": x, \"y\": y};\n",
       "};\n",
       "\n",
       "/*\n",
       " * return a copy of an object with only non-object keys\n",
       " * we need this to avoid circular references\n",
       " * http://stackoverflow.com/a/24161582/3208463\n",
       " */\n",
       "function simpleKeys (original) {\n",
       "  return Object.keys(original).reduce(function (obj, key) {\n",
       "    if (typeof original[key] !== 'object')\n",
       "        obj[key] = original[key]\n",
       "    return obj;\n",
       "  }, {});\n",
       "}\n",
       "\n",
       "mpl.figure.prototype.mouse_event = function(event, name) {\n",
       "    var canvas_pos = mpl.findpos(event)\n",
       "\n",
       "    if (name === 'button_press')\n",
       "    {\n",
       "        this.canvas.focus();\n",
       "        this.canvas_div.focus();\n",
       "    }\n",
       "\n",
       "    var x = canvas_pos.x;\n",
       "    var y = canvas_pos.y;\n",
       "\n",
       "    this.send_message(name, {x: x, y: y, button: event.button,\n",
       "                             step: event.step,\n",
       "                             guiEvent: simpleKeys(event)});\n",
       "\n",
       "    /* This prevents the web browser from automatically changing to\n",
       "     * the text insertion cursor when the button is pressed.  We want\n",
       "     * to control all of the cursor setting manually through the\n",
       "     * 'cursor' event from matplotlib */\n",
       "    event.preventDefault();\n",
       "    return false;\n",
       "}\n",
       "\n",
       "mpl.figure.prototype._key_event_extra = function(event, name) {\n",
       "    // Handle any extra behaviour associated with a key event\n",
       "}\n",
       "\n",
       "mpl.figure.prototype.key_event = function(event, name) {\n",
       "\n",
       "    // Prevent repeat events\n",
       "    if (name == 'key_press')\n",
       "    {\n",
       "        if (event.which === this._key)\n",
       "            return;\n",
       "        else\n",
       "            this._key = event.which;\n",
       "    }\n",
       "    if (name == 'key_release')\n",
       "        this._key = null;\n",
       "\n",
       "    var value = '';\n",
       "    if (event.ctrlKey && event.which != 17)\n",
       "        value += \"ctrl+\";\n",
       "    if (event.altKey && event.which != 18)\n",
       "        value += \"alt+\";\n",
       "    if (event.shiftKey && event.which != 16)\n",
       "        value += \"shift+\";\n",
       "\n",
       "    value += 'k';\n",
       "    value += event.which.toString();\n",
       "\n",
       "    this._key_event_extra(event, name);\n",
       "\n",
       "    this.send_message(name, {key: value,\n",
       "                             guiEvent: simpleKeys(event)});\n",
       "    return false;\n",
       "}\n",
       "\n",
       "mpl.figure.prototype.toolbar_button_onclick = function(name) {\n",
       "    if (name == 'download') {\n",
       "        this.handle_save(this, null);\n",
       "    } else {\n",
       "        this.send_message(\"toolbar_button\", {name: name});\n",
       "    }\n",
       "};\n",
       "\n",
       "mpl.figure.prototype.toolbar_button_onmouseover = function(tooltip) {\n",
       "    this.message.textContent = tooltip;\n",
       "};\n",
       "mpl.toolbar_items = [[\"Home\", \"Reset original view\", \"fa fa-home icon-home\", \"home\"], [\"Back\", \"Back to  previous view\", \"fa fa-arrow-left icon-arrow-left\", \"back\"], [\"Forward\", \"Forward to next view\", \"fa fa-arrow-right icon-arrow-right\", \"forward\"], [\"\", \"\", \"\", \"\"], [\"Pan\", \"Pan axes with left mouse, zoom with right\", \"fa fa-arrows icon-move\", \"pan\"], [\"Zoom\", \"Zoom to rectangle\", \"fa fa-square-o icon-check-empty\", \"zoom\"], [\"\", \"\", \"\", \"\"], [\"Download\", \"Download plot\", \"fa fa-floppy-o icon-save\", \"download\"]];\n",
       "\n",
       "mpl.extensions = [\"eps\", \"pdf\", \"png\", \"ps\", \"raw\", \"svg\"];\n",
       "\n",
       "mpl.default_extension = \"png\";var comm_websocket_adapter = function(comm) {\n",
       "    // Create a \"websocket\"-like object which calls the given IPython comm\n",
       "    // object with the appropriate methods. Currently this is a non binary\n",
       "    // socket, so there is still some room for performance tuning.\n",
       "    var ws = {};\n",
       "\n",
       "    ws.close = function() {\n",
       "        comm.close()\n",
       "    };\n",
       "    ws.send = function(m) {\n",
       "        //console.log('sending', m);\n",
       "        comm.send(m);\n",
       "    };\n",
       "    // Register the callback with on_msg.\n",
       "    comm.on_msg(function(msg) {\n",
       "        //console.log('receiving', msg['content']['data'], msg);\n",
       "        // Pass the mpl event to the overriden (by mpl) onmessage function.\n",
       "        ws.onmessage(msg['content']['data'])\n",
       "    });\n",
       "    return ws;\n",
       "}\n",
       "\n",
       "mpl.mpl_figure_comm = function(comm, msg) {\n",
       "    // This is the function which gets called when the mpl process\n",
       "    // starts-up an IPython Comm through the \"matplotlib\" channel.\n",
       "\n",
       "    var id = msg.content.data.id;\n",
       "    // Get hold of the div created by the display call when the Comm\n",
       "    // socket was opened in Python.\n",
       "    var element = $(\"#\" + id);\n",
       "    var ws_proxy = comm_websocket_adapter(comm)\n",
       "\n",
       "    function ondownload(figure, format) {\n",
       "        window.open(figure.imageObj.src);\n",
       "    }\n",
       "\n",
       "    var fig = new mpl.figure(id, ws_proxy,\n",
       "                           ondownload,\n",
       "                           element.get(0));\n",
       "\n",
       "    // Call onopen now - mpl needs it, as it is assuming we've passed it a real\n",
       "    // web socket which is closed, not our websocket->open comm proxy.\n",
       "    ws_proxy.onopen();\n",
       "\n",
       "    fig.parent_element = element.get(0);\n",
       "    fig.cell_info = mpl.find_output_cell(\"<div id='\" + id + \"'></div>\");\n",
       "    if (!fig.cell_info) {\n",
       "        console.error(\"Failed to find cell for figure\", id, fig);\n",
       "        return;\n",
       "    }\n",
       "\n",
       "    var output_index = fig.cell_info[2]\n",
       "    var cell = fig.cell_info[0];\n",
       "\n",
       "};\n",
       "\n",
       "mpl.figure.prototype.handle_close = function(fig, msg) {\n",
       "    fig.root.unbind('remove')\n",
       "\n",
       "    // Update the output cell to use the data from the current canvas.\n",
       "    fig.push_to_output();\n",
       "    var dataURL = fig.canvas.toDataURL();\n",
       "    // Re-enable the keyboard manager in IPython - without this line, in FF,\n",
       "    // the notebook keyboard shortcuts fail.\n",
       "    IPython.keyboard_manager.enable()\n",
       "    $(fig.parent_element).html('<img src=\"' + dataURL + '\">');\n",
       "    fig.close_ws(fig, msg);\n",
       "}\n",
       "\n",
       "mpl.figure.prototype.close_ws = function(fig, msg){\n",
       "    fig.send_message('closing', msg);\n",
       "    // fig.ws.close()\n",
       "}\n",
       "\n",
       "mpl.figure.prototype.push_to_output = function(remove_interactive) {\n",
       "    // Turn the data on the canvas into data in the output cell.\n",
       "    var dataURL = this.canvas.toDataURL();\n",
       "    this.cell_info[1]['text/html'] = '<img src=\"' + dataURL + '\">';\n",
       "}\n",
       "\n",
       "mpl.figure.prototype.updated_canvas_event = function() {\n",
       "    // Tell IPython that the notebook contents must change.\n",
       "    IPython.notebook.set_dirty(true);\n",
       "    this.send_message(\"ack\", {});\n",
       "    var fig = this;\n",
       "    // Wait a second, then push the new image to the DOM so\n",
       "    // that it is saved nicely (might be nice to debounce this).\n",
       "    setTimeout(function () { fig.push_to_output() }, 1000);\n",
       "}\n",
       "\n",
       "mpl.figure.prototype._init_toolbar = function() {\n",
       "    var fig = this;\n",
       "\n",
       "    var nav_element = $('<div/>')\n",
       "    nav_element.attr('style', 'width: 100%');\n",
       "    this.root.append(nav_element);\n",
       "\n",
       "    // Define a callback function for later on.\n",
       "    function toolbar_event(event) {\n",
       "        return fig.toolbar_button_onclick(event['data']);\n",
       "    }\n",
       "    function toolbar_mouse_event(event) {\n",
       "        return fig.toolbar_button_onmouseover(event['data']);\n",
       "    }\n",
       "\n",
       "    for(var toolbar_ind in mpl.toolbar_items){\n",
       "        var name = mpl.toolbar_items[toolbar_ind][0];\n",
       "        var tooltip = mpl.toolbar_items[toolbar_ind][1];\n",
       "        var image = mpl.toolbar_items[toolbar_ind][2];\n",
       "        var method_name = mpl.toolbar_items[toolbar_ind][3];\n",
       "\n",
       "        if (!name) { continue; };\n",
       "\n",
       "        var button = $('<button class=\"btn btn-default\" href=\"#\" title=\"' + name + '\"><i class=\"fa ' + image + ' fa-lg\"></i></button>');\n",
       "        button.click(method_name, toolbar_event);\n",
       "        button.mouseover(tooltip, toolbar_mouse_event);\n",
       "        nav_element.append(button);\n",
       "    }\n",
       "\n",
       "    // Add the status bar.\n",
       "    var status_bar = $('<span class=\"mpl-message\" style=\"text-align:right; float: right;\"/>');\n",
       "    nav_element.append(status_bar);\n",
       "    this.message = status_bar[0];\n",
       "\n",
       "    // Add the close button to the window.\n",
       "    var buttongrp = $('<div class=\"btn-group inline pull-right\"></div>');\n",
       "    var button = $('<button class=\"btn btn-mini btn-primary\" href=\"#\" title=\"Stop Interaction\"><i class=\"fa fa-power-off icon-remove icon-large\"></i></button>');\n",
       "    button.click(function (evt) { fig.handle_close(fig, {}); } );\n",
       "    button.mouseover('Stop Interaction', toolbar_mouse_event);\n",
       "    buttongrp.append(button);\n",
       "    var titlebar = this.root.find($('.ui-dialog-titlebar'));\n",
       "    titlebar.prepend(buttongrp);\n",
       "}\n",
       "\n",
       "mpl.figure.prototype._root_extra_style = function(el){\n",
       "    var fig = this\n",
       "    el.on(\"remove\", function(){\n",
       "\tfig.close_ws(fig, {});\n",
       "    });\n",
       "}\n",
       "\n",
       "mpl.figure.prototype._canvas_extra_style = function(el){\n",
       "    // this is important to make the div 'focusable\n",
       "    el.attr('tabindex', 0)\n",
       "    // reach out to IPython and tell the keyboard manager to turn it's self\n",
       "    // off when our div gets focus\n",
       "\n",
       "    // location in version 3\n",
       "    if (IPython.notebook.keyboard_manager) {\n",
       "        IPython.notebook.keyboard_manager.register_events(el);\n",
       "    }\n",
       "    else {\n",
       "        // location in version 2\n",
       "        IPython.keyboard_manager.register_events(el);\n",
       "    }\n",
       "\n",
       "}\n",
       "\n",
       "mpl.figure.prototype._key_event_extra = function(event, name) {\n",
       "    var manager = IPython.notebook.keyboard_manager;\n",
       "    if (!manager)\n",
       "        manager = IPython.keyboard_manager;\n",
       "\n",
       "    // Check for shift+enter\n",
       "    if (event.shiftKey && event.which == 13) {\n",
       "        this.canvas_div.blur();\n",
       "        event.shiftKey = false;\n",
       "        // Send a \"J\" for go to next cell\n",
       "        event.which = 74;\n",
       "        event.keyCode = 74;\n",
       "        manager.command_mode();\n",
       "        manager.handle_keydown(event);\n",
       "    }\n",
       "}\n",
       "\n",
       "mpl.figure.prototype.handle_save = function(fig, msg) {\n",
       "    fig.ondownload(fig, null);\n",
       "}\n",
       "\n",
       "\n",
       "mpl.find_output_cell = function(html_output) {\n",
       "    // Return the cell and output element which can be found *uniquely* in the notebook.\n",
       "    // Note - this is a bit hacky, but it is done because the \"notebook_saving.Notebook\"\n",
       "    // IPython event is triggered only after the cells have been serialised, which for\n",
       "    // our purposes (turning an active figure into a static one), is too late.\n",
       "    var cells = IPython.notebook.get_cells();\n",
       "    var ncells = cells.length;\n",
       "    for (var i=0; i<ncells; i++) {\n",
       "        var cell = cells[i];\n",
       "        if (cell.cell_type === 'code'){\n",
       "            for (var j=0; j<cell.output_area.outputs.length; j++) {\n",
       "                var data = cell.output_area.outputs[j];\n",
       "                if (data.data) {\n",
       "                    // IPython >= 3 moved mimebundle to data attribute of output\n",
       "                    data = data.data;\n",
       "                }\n",
       "                if (data['text/html'] == html_output) {\n",
       "                    return [cell, data, j];\n",
       "                }\n",
       "            }\n",
       "        }\n",
       "    }\n",
       "}\n",
       "\n",
       "// Register the function which deals with the matplotlib target/channel.\n",
       "// The kernel may be null if the page has been refreshed.\n",
       "if (IPython.notebook.kernel != null) {\n",
       "    IPython.notebook.kernel.comm_manager.register_target('matplotlib', mpl.mpl_figure_comm);\n",
       "}\n"
      ],
      "text/plain": [
       "<IPython.core.display.Javascript object>"
      ]
     },
     "metadata": {},
     "output_type": "display_data"
    },
    {
     "data": {
      "text/html": [
       "<img src=\"data:image/png;base64,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\">"
      ],
      "text/plain": [
       "<IPython.core.display.HTML object>"
      ]
     },
     "metadata": {},
     "output_type": "display_data"
    }
   ],
   "source": [
    "\n",
    "def plot_class_poll():\n",
    "    fig, axes = plt.subplots(ncols=3, nrows=1)\n",
    "#     axes = [ax for sublist in axes for ax in sublist]\n",
    "    polls = [education_level, operating_system, lab_languages]\n",
    "    plot_types = ['bar', 'line', 'pie']\n",
    "    titles = ['Education', 'Programming Level', 'Lab Languages']\n",
    "    for ax, poll, plot_type, title in zip(axes, polls, plot_types, titles):\n",
    "        pd.Series(poll).plot(kind=plot_type, ax=ax, rot=40)\n",
    "        ax.set_title(title)\n",
    "#         ax.set_ylim(-.1, max(poll.values()))\n",
    "        \n",
    "plot_class_poll()"
   ]
  },
  {
   "cell_type": "code",
   "execution_count": 92,
   "metadata": {
    "collapsed": false,
    "slideshow": {
     "slide_type": "subslide"
    }
   },
   "outputs": [
    {
     "data": {
      "application/javascript": [
       "/* Put everything inside the global mpl namespace */\n",
       "window.mpl = {};\n",
       "\n",
       "mpl.get_websocket_type = function() {\n",
       "    if (typeof(WebSocket) !== 'undefined') {\n",
       "        return WebSocket;\n",
       "    } else if (typeof(MozWebSocket) !== 'undefined') {\n",
       "        return MozWebSocket;\n",
       "    } else {\n",
       "        alert('Your browser does not have WebSocket support.' +\n",
       "              'Please try Chrome, Safari or Firefox ≥ 6. ' +\n",
       "              'Firefox 4 and 5 are also supported but you ' +\n",
       "              'have to enable WebSockets in about:config.');\n",
       "    };\n",
       "}\n",
       "\n",
       "mpl.figure = function(figure_id, websocket, ondownload, parent_element) {\n",
       "    this.id = figure_id;\n",
       "\n",
       "    this.ws = websocket;\n",
       "\n",
       "    this.supports_binary = (this.ws.binaryType != undefined);\n",
       "\n",
       "    if (!this.supports_binary) {\n",
       "        var warnings = document.getElementById(\"mpl-warnings\");\n",
       "        if (warnings) {\n",
       "            warnings.style.display = 'block';\n",
       "            warnings.textContent = (\n",
       "                \"This browser does not support binary websocket messages. \" +\n",
       "                    \"Performance may be slow.\");\n",
       "        }\n",
       "    }\n",
       "\n",
       "    this.imageObj = new Image();\n",
       "\n",
       "    this.context = undefined;\n",
       "    this.message = undefined;\n",
       "    this.canvas = undefined;\n",
       "    this.rubberband_canvas = undefined;\n",
       "    this.rubberband_context = undefined;\n",
       "    this.format_dropdown = undefined;\n",
       "\n",
       "    this.image_mode = 'full';\n",
       "\n",
       "    this.root = $('<div/>');\n",
       "    this._root_extra_style(this.root)\n",
       "    this.root.attr('style', 'display: inline-block');\n",
       "\n",
       "    $(parent_element).append(this.root);\n",
       "\n",
       "    this._init_header(this);\n",
       "    this._init_canvas(this);\n",
       "    this._init_toolbar(this);\n",
       "\n",
       "    var fig = this;\n",
       "\n",
       "    this.waiting = false;\n",
       "\n",
       "    this.ws.onopen =  function () {\n",
       "            fig.send_message(\"supports_binary\", {value: fig.supports_binary});\n",
       "            fig.send_message(\"send_image_mode\", {});\n",
       "            fig.send_message(\"refresh\", {});\n",
       "        }\n",
       "\n",
       "    this.imageObj.onload = function() {\n",
       "            if (fig.image_mode == 'full') {\n",
       "                // Full images could contain transparency (where diff images\n",
       "                // almost always do), so we need to clear the canvas so that\n",
       "                // there is no ghosting.\n",
       "                fig.context.clearRect(0, 0, fig.canvas.width, fig.canvas.height);\n",
       "            }\n",
       "            fig.context.drawImage(fig.imageObj, 0, 0);\n",
       "        };\n",
       "\n",
       "    this.imageObj.onunload = function() {\n",
       "        this.ws.close();\n",
       "    }\n",
       "\n",
       "    this.ws.onmessage = this._make_on_message_function(this);\n",
       "\n",
       "    this.ondownload = ondownload;\n",
       "}\n",
       "\n",
       "mpl.figure.prototype._init_header = function() {\n",
       "    var titlebar = $(\n",
       "        '<div class=\"ui-dialog-titlebar ui-widget-header ui-corner-all ' +\n",
       "        'ui-helper-clearfix\"/>');\n",
       "    var titletext = $(\n",
       "        '<div class=\"ui-dialog-title\" style=\"width: 100%; ' +\n",
       "        'text-align: center; padding: 3px;\"/>');\n",
       "    titlebar.append(titletext)\n",
       "    this.root.append(titlebar);\n",
       "    this.header = titletext[0];\n",
       "}\n",
       "\n",
       "\n",
       "\n",
       "mpl.figure.prototype._canvas_extra_style = function(canvas_div) {\n",
       "\n",
       "}\n",
       "\n",
       "\n",
       "mpl.figure.prototype._root_extra_style = function(canvas_div) {\n",
       "\n",
       "}\n",
       "\n",
       "mpl.figure.prototype._init_canvas = function() {\n",
       "    var fig = this;\n",
       "\n",
       "    var canvas_div = $('<div/>');\n",
       "\n",
       "    canvas_div.attr('style', 'position: relative; clear: both; outline: 0');\n",
       "\n",
       "    function canvas_keyboard_event(event) {\n",
       "        return fig.key_event(event, event['data']);\n",
       "    }\n",
       "\n",
       "    canvas_div.keydown('key_press', canvas_keyboard_event);\n",
       "    canvas_div.keyup('key_release', canvas_keyboard_event);\n",
       "    this.canvas_div = canvas_div\n",
       "    this._canvas_extra_style(canvas_div)\n",
       "    this.root.append(canvas_div);\n",
       "\n",
       "    var canvas = $('<canvas/>');\n",
       "    canvas.addClass('mpl-canvas');\n",
       "    canvas.attr('style', \"left: 0; top: 0; z-index: 0; outline: 0\")\n",
       "\n",
       "    this.canvas = canvas[0];\n",
       "    this.context = canvas[0].getContext(\"2d\");\n",
       "\n",
       "    var rubberband = $('<canvas/>');\n",
       "    rubberband.attr('style', \"position: absolute; left: 0; top: 0; z-index: 1;\")\n",
       "\n",
       "    var pass_mouse_events = true;\n",
       "\n",
       "    canvas_div.resizable({\n",
       "        start: function(event, ui) {\n",
       "            pass_mouse_events = false;\n",
       "        },\n",
       "        resize: function(event, ui) {\n",
       "            fig.request_resize(ui.size.width, ui.size.height);\n",
       "        },\n",
       "        stop: function(event, ui) {\n",
       "            pass_mouse_events = true;\n",
       "            fig.request_resize(ui.size.width, ui.size.height);\n",
       "        },\n",
       "    });\n",
       "\n",
       "    function mouse_event_fn(event) {\n",
       "        if (pass_mouse_events)\n",
       "            return fig.mouse_event(event, event['data']);\n",
       "    }\n",
       "\n",
       "    rubberband.mousedown('button_press', mouse_event_fn);\n",
       "    rubberband.mouseup('button_release', mouse_event_fn);\n",
       "    // Throttle sequential mouse events to 1 every 20ms.\n",
       "    rubberband.mousemove('motion_notify', mouse_event_fn);\n",
       "\n",
       "    rubberband.mouseenter('figure_enter', mouse_event_fn);\n",
       "    rubberband.mouseleave('figure_leave', mouse_event_fn);\n",
       "\n",
       "    canvas_div.on(\"wheel\", function (event) {\n",
       "        event = event.originalEvent;\n",
       "        event['data'] = 'scroll'\n",
       "        if (event.deltaY < 0) {\n",
       "            event.step = 1;\n",
       "        } else {\n",
       "            event.step = -1;\n",
       "        }\n",
       "        mouse_event_fn(event);\n",
       "    });\n",
       "\n",
       "    canvas_div.append(canvas);\n",
       "    canvas_div.append(rubberband);\n",
       "\n",
       "    this.rubberband = rubberband;\n",
       "    this.rubberband_canvas = rubberband[0];\n",
       "    this.rubberband_context = rubberband[0].getContext(\"2d\");\n",
       "    this.rubberband_context.strokeStyle = \"#000000\";\n",
       "\n",
       "    this._resize_canvas = function(width, height) {\n",
       "        // Keep the size of the canvas, canvas container, and rubber band\n",
       "        // canvas in synch.\n",
       "        canvas_div.css('width', width)\n",
       "        canvas_div.css('height', height)\n",
       "\n",
       "        canvas.attr('width', width);\n",
       "        canvas.attr('height', height);\n",
       "\n",
       "        rubberband.attr('width', width);\n",
       "        rubberband.attr('height', height);\n",
       "    }\n",
       "\n",
       "    // Set the figure to an initial 600x600px, this will subsequently be updated\n",
       "    // upon first draw.\n",
       "    this._resize_canvas(600, 600);\n",
       "\n",
       "    // Disable right mouse context menu.\n",
       "    $(this.rubberband_canvas).bind(\"contextmenu\",function(e){\n",
       "        return false;\n",
       "    });\n",
       "\n",
       "    function set_focus () {\n",
       "        canvas.focus();\n",
       "        canvas_div.focus();\n",
       "    }\n",
       "\n",
       "    window.setTimeout(set_focus, 100);\n",
       "}\n",
       "\n",
       "mpl.figure.prototype._init_toolbar = function() {\n",
       "    var fig = this;\n",
       "\n",
       "    var nav_element = $('<div/>')\n",
       "    nav_element.attr('style', 'width: 100%');\n",
       "    this.root.append(nav_element);\n",
       "\n",
       "    // Define a callback function for later on.\n",
       "    function toolbar_event(event) {\n",
       "        return fig.toolbar_button_onclick(event['data']);\n",
       "    }\n",
       "    function toolbar_mouse_event(event) {\n",
       "        return fig.toolbar_button_onmouseover(event['data']);\n",
       "    }\n",
       "\n",
       "    for(var toolbar_ind in mpl.toolbar_items) {\n",
       "        var name = mpl.toolbar_items[toolbar_ind][0];\n",
       "        var tooltip = mpl.toolbar_items[toolbar_ind][1];\n",
       "        var image = mpl.toolbar_items[toolbar_ind][2];\n",
       "        var method_name = mpl.toolbar_items[toolbar_ind][3];\n",
       "\n",
       "        if (!name) {\n",
       "            // put a spacer in here.\n",
       "            continue;\n",
       "        }\n",
       "        var button = $('<button/>');\n",
       "        button.addClass('ui-button ui-widget ui-state-default ui-corner-all ' +\n",
       "                        'ui-button-icon-only');\n",
       "        button.attr('role', 'button');\n",
       "        button.attr('aria-disabled', 'false');\n",
       "        button.click(method_name, toolbar_event);\n",
       "        button.mouseover(tooltip, toolbar_mouse_event);\n",
       "\n",
       "        var icon_img = $('<span/>');\n",
       "        icon_img.addClass('ui-button-icon-primary ui-icon');\n",
       "        icon_img.addClass(image);\n",
       "        icon_img.addClass('ui-corner-all');\n",
       "\n",
       "        var tooltip_span = $('<span/>');\n",
       "        tooltip_span.addClass('ui-button-text');\n",
       "        tooltip_span.html(tooltip);\n",
       "\n",
       "        button.append(icon_img);\n",
       "        button.append(tooltip_span);\n",
       "\n",
       "        nav_element.append(button);\n",
       "    }\n",
       "\n",
       "    var fmt_picker_span = $('<span/>');\n",
       "\n",
       "    var fmt_picker = $('<select/>');\n",
       "    fmt_picker.addClass('mpl-toolbar-option ui-widget ui-widget-content');\n",
       "    fmt_picker_span.append(fmt_picker);\n",
       "    nav_element.append(fmt_picker_span);\n",
       "    this.format_dropdown = fmt_picker[0];\n",
       "\n",
       "    for (var ind in mpl.extensions) {\n",
       "        var fmt = mpl.extensions[ind];\n",
       "        var option = $(\n",
       "            '<option/>', {selected: fmt === mpl.default_extension}).html(fmt);\n",
       "        fmt_picker.append(option)\n",
       "    }\n",
       "\n",
       "    // Add hover states to the ui-buttons\n",
       "    $( \".ui-button\" ).hover(\n",
       "        function() { $(this).addClass(\"ui-state-hover\");},\n",
       "        function() { $(this).removeClass(\"ui-state-hover\");}\n",
       "    );\n",
       "\n",
       "    var status_bar = $('<span class=\"mpl-message\"/>');\n",
       "    nav_element.append(status_bar);\n",
       "    this.message = status_bar[0];\n",
       "}\n",
       "\n",
       "mpl.figure.prototype.request_resize = function(x_pixels, y_pixels) {\n",
       "    // Request matplotlib to resize the figure. Matplotlib will then trigger a resize in the client,\n",
       "    // which will in turn request a refresh of the image.\n",
       "    this.send_message('resize', {'width': x_pixels, 'height': y_pixels});\n",
       "}\n",
       "\n",
       "mpl.figure.prototype.send_message = function(type, properties) {\n",
       "    properties['type'] = type;\n",
       "    properties['figure_id'] = this.id;\n",
       "    this.ws.send(JSON.stringify(properties));\n",
       "}\n",
       "\n",
       "mpl.figure.prototype.send_draw_message = function() {\n",
       "    if (!this.waiting) {\n",
       "        this.waiting = true;\n",
       "        this.ws.send(JSON.stringify({type: \"draw\", figure_id: this.id}));\n",
       "    }\n",
       "}\n",
       "\n",
       "\n",
       "mpl.figure.prototype.handle_save = function(fig, msg) {\n",
       "    var format_dropdown = fig.format_dropdown;\n",
       "    var format = format_dropdown.options[format_dropdown.selectedIndex].value;\n",
       "    fig.ondownload(fig, format);\n",
       "}\n",
       "\n",
       "\n",
       "mpl.figure.prototype.handle_resize = function(fig, msg) {\n",
       "    var size = msg['size'];\n",
       "    if (size[0] != fig.canvas.width || size[1] != fig.canvas.height) {\n",
       "        fig._resize_canvas(size[0], size[1]);\n",
       "        fig.send_message(\"refresh\", {});\n",
       "    };\n",
       "}\n",
       "\n",
       "mpl.figure.prototype.handle_rubberband = function(fig, msg) {\n",
       "    var x0 = msg['x0'];\n",
       "    var y0 = fig.canvas.height - msg['y0'];\n",
       "    var x1 = msg['x1'];\n",
       "    var y1 = fig.canvas.height - msg['y1'];\n",
       "    x0 = Math.floor(x0) + 0.5;\n",
       "    y0 = Math.floor(y0) + 0.5;\n",
       "    x1 = Math.floor(x1) + 0.5;\n",
       "    y1 = Math.floor(y1) + 0.5;\n",
       "    var min_x = Math.min(x0, x1);\n",
       "    var min_y = Math.min(y0, y1);\n",
       "    var width = Math.abs(x1 - x0);\n",
       "    var height = Math.abs(y1 - y0);\n",
       "\n",
       "    fig.rubberband_context.clearRect(\n",
       "        0, 0, fig.canvas.width, fig.canvas.height);\n",
       "\n",
       "    fig.rubberband_context.strokeRect(min_x, min_y, width, height);\n",
       "}\n",
       "\n",
       "mpl.figure.prototype.handle_figure_label = function(fig, msg) {\n",
       "    // Updates the figure title.\n",
       "    fig.header.textContent = msg['label'];\n",
       "}\n",
       "\n",
       "mpl.figure.prototype.handle_cursor = function(fig, msg) {\n",
       "    var cursor = msg['cursor'];\n",
       "    switch(cursor)\n",
       "    {\n",
       "    case 0:\n",
       "        cursor = 'pointer';\n",
       "        break;\n",
       "    case 1:\n",
       "        cursor = 'default';\n",
       "        break;\n",
       "    case 2:\n",
       "        cursor = 'crosshair';\n",
       "        break;\n",
       "    case 3:\n",
       "        cursor = 'move';\n",
       "        break;\n",
       "    }\n",
       "    fig.rubberband_canvas.style.cursor = cursor;\n",
       "}\n",
       "\n",
       "mpl.figure.prototype.handle_message = function(fig, msg) {\n",
       "    fig.message.textContent = msg['message'];\n",
       "}\n",
       "\n",
       "mpl.figure.prototype.handle_draw = function(fig, msg) {\n",
       "    // Request the server to send over a new figure.\n",
       "    fig.send_draw_message();\n",
       "}\n",
       "\n",
       "mpl.figure.prototype.handle_image_mode = function(fig, msg) {\n",
       "    fig.image_mode = msg['mode'];\n",
       "}\n",
       "\n",
       "mpl.figure.prototype.updated_canvas_event = function() {\n",
       "    // Called whenever the canvas gets updated.\n",
       "    this.send_message(\"ack\", {});\n",
       "}\n",
       "\n",
       "// A function to construct a web socket function for onmessage handling.\n",
       "// Called in the figure constructor.\n",
       "mpl.figure.prototype._make_on_message_function = function(fig) {\n",
       "    return function socket_on_message(evt) {\n",
       "        if (evt.data instanceof Blob) {\n",
       "            /* FIXME: We get \"Resource interpreted as Image but\n",
       "             * transferred with MIME type text/plain:\" errors on\n",
       "             * Chrome.  But how to set the MIME type?  It doesn't seem\n",
       "             * to be part of the websocket stream */\n",
       "            evt.data.type = \"image/png\";\n",
       "\n",
       "            /* Free the memory for the previous frames */\n",
       "            if (fig.imageObj.src) {\n",
       "                (window.URL || window.webkitURL).revokeObjectURL(\n",
       "                    fig.imageObj.src);\n",
       "            }\n",
       "\n",
       "            fig.imageObj.src = (window.URL || window.webkitURL).createObjectURL(\n",
       "                evt.data);\n",
       "            fig.updated_canvas_event();\n",
       "            fig.waiting = false;\n",
       "            return;\n",
       "        }\n",
       "        else if (typeof evt.data === 'string' && evt.data.slice(0, 21) == \"data:image/png;base64\") {\n",
       "            fig.imageObj.src = evt.data;\n",
       "            fig.updated_canvas_event();\n",
       "            fig.waiting = false;\n",
       "            return;\n",
       "        }\n",
       "\n",
       "        var msg = JSON.parse(evt.data);\n",
       "        var msg_type = msg['type'];\n",
       "\n",
       "        // Call the  \"handle_{type}\" callback, which takes\n",
       "        // the figure and JSON message as its only arguments.\n",
       "        try {\n",
       "            var callback = fig[\"handle_\" + msg_type];\n",
       "        } catch (e) {\n",
       "            console.log(\"No handler for the '\" + msg_type + \"' message type: \", msg);\n",
       "            return;\n",
       "        }\n",
       "\n",
       "        if (callback) {\n",
       "            try {\n",
       "                // console.log(\"Handling '\" + msg_type + \"' message: \", msg);\n",
       "                callback(fig, msg);\n",
       "            } catch (e) {\n",
       "                console.log(\"Exception inside the 'handler_\" + msg_type + \"' callback:\", e, e.stack, msg);\n",
       "            }\n",
       "        }\n",
       "    };\n",
       "}\n",
       "\n",
       "// from http://stackoverflow.com/questions/1114465/getting-mouse-location-in-canvas\n",
       "mpl.findpos = function(e) {\n",
       "    //this section is from http://www.quirksmode.org/js/events_properties.html\n",
       "    var targ;\n",
       "    if (!e)\n",
       "        e = window.event;\n",
       "    if (e.target)\n",
       "        targ = e.target;\n",
       "    else if (e.srcElement)\n",
       "        targ = e.srcElement;\n",
       "    if (targ.nodeType == 3) // defeat Safari bug\n",
       "        targ = targ.parentNode;\n",
       "\n",
       "    // jQuery normalizes the pageX and pageY\n",
       "    // pageX,Y are the mouse positions relative to the document\n",
       "    // offset() returns the position of the element relative to the document\n",
       "    var x = e.pageX - $(targ).offset().left;\n",
       "    var y = e.pageY - $(targ).offset().top;\n",
       "\n",
       "    return {\"x\": x, \"y\": y};\n",
       "};\n",
       "\n",
       "/*\n",
       " * return a copy of an object with only non-object keys\n",
       " * we need this to avoid circular references\n",
       " * http://stackoverflow.com/a/24161582/3208463\n",
       " */\n",
       "function simpleKeys (original) {\n",
       "  return Object.keys(original).reduce(function (obj, key) {\n",
       "    if (typeof original[key] !== 'object')\n",
       "        obj[key] = original[key]\n",
       "    return obj;\n",
       "  }, {});\n",
       "}\n",
       "\n",
       "mpl.figure.prototype.mouse_event = function(event, name) {\n",
       "    var canvas_pos = mpl.findpos(event)\n",
       "\n",
       "    if (name === 'button_press')\n",
       "    {\n",
       "        this.canvas.focus();\n",
       "        this.canvas_div.focus();\n",
       "    }\n",
       "\n",
       "    var x = canvas_pos.x;\n",
       "    var y = canvas_pos.y;\n",
       "\n",
       "    this.send_message(name, {x: x, y: y, button: event.button,\n",
       "                             step: event.step,\n",
       "                             guiEvent: simpleKeys(event)});\n",
       "\n",
       "    /* This prevents the web browser from automatically changing to\n",
       "     * the text insertion cursor when the button is pressed.  We want\n",
       "     * to control all of the cursor setting manually through the\n",
       "     * 'cursor' event from matplotlib */\n",
       "    event.preventDefault();\n",
       "    return false;\n",
       "}\n",
       "\n",
       "mpl.figure.prototype._key_event_extra = function(event, name) {\n",
       "    // Handle any extra behaviour associated with a key event\n",
       "}\n",
       "\n",
       "mpl.figure.prototype.key_event = function(event, name) {\n",
       "\n",
       "    // Prevent repeat events\n",
       "    if (name == 'key_press')\n",
       "    {\n",
       "        if (event.which === this._key)\n",
       "            return;\n",
       "        else\n",
       "            this._key = event.which;\n",
       "    }\n",
       "    if (name == 'key_release')\n",
       "        this._key = null;\n",
       "\n",
       "    var value = '';\n",
       "    if (event.ctrlKey && event.which != 17)\n",
       "        value += \"ctrl+\";\n",
       "    if (event.altKey && event.which != 18)\n",
       "        value += \"alt+\";\n",
       "    if (event.shiftKey && event.which != 16)\n",
       "        value += \"shift+\";\n",
       "\n",
       "    value += 'k';\n",
       "    value += event.which.toString();\n",
       "\n",
       "    this._key_event_extra(event, name);\n",
       "\n",
       "    this.send_message(name, {key: value,\n",
       "                             guiEvent: simpleKeys(event)});\n",
       "    return false;\n",
       "}\n",
       "\n",
       "mpl.figure.prototype.toolbar_button_onclick = function(name) {\n",
       "    if (name == 'download') {\n",
       "        this.handle_save(this, null);\n",
       "    } else {\n",
       "        this.send_message(\"toolbar_button\", {name: name});\n",
       "    }\n",
       "};\n",
       "\n",
       "mpl.figure.prototype.toolbar_button_onmouseover = function(tooltip) {\n",
       "    this.message.textContent = tooltip;\n",
       "};\n",
       "mpl.toolbar_items = [[\"Home\", \"Reset original view\", \"fa fa-home icon-home\", \"home\"], [\"Back\", \"Back to  previous view\", \"fa fa-arrow-left icon-arrow-left\", \"back\"], [\"Forward\", \"Forward to next view\", \"fa fa-arrow-right icon-arrow-right\", \"forward\"], [\"\", \"\", \"\", \"\"], [\"Pan\", \"Pan axes with left mouse, zoom with right\", \"fa fa-arrows icon-move\", \"pan\"], [\"Zoom\", \"Zoom to rectangle\", \"fa fa-square-o icon-check-empty\", \"zoom\"], [\"\", \"\", \"\", \"\"], [\"Download\", \"Download plot\", \"fa fa-floppy-o icon-save\", \"download\"]];\n",
       "\n",
       "mpl.extensions = [\"eps\", \"pdf\", \"png\", \"ps\", \"raw\", \"svg\"];\n",
       "\n",
       "mpl.default_extension = \"png\";var comm_websocket_adapter = function(comm) {\n",
       "    // Create a \"websocket\"-like object which calls the given IPython comm\n",
       "    // object with the appropriate methods. Currently this is a non binary\n",
       "    // socket, so there is still some room for performance tuning.\n",
       "    var ws = {};\n",
       "\n",
       "    ws.close = function() {\n",
       "        comm.close()\n",
       "    };\n",
       "    ws.send = function(m) {\n",
       "        //console.log('sending', m);\n",
       "        comm.send(m);\n",
       "    };\n",
       "    // Register the callback with on_msg.\n",
       "    comm.on_msg(function(msg) {\n",
       "        //console.log('receiving', msg['content']['data'], msg);\n",
       "        // Pass the mpl event to the overriden (by mpl) onmessage function.\n",
       "        ws.onmessage(msg['content']['data'])\n",
       "    });\n",
       "    return ws;\n",
       "}\n",
       "\n",
       "mpl.mpl_figure_comm = function(comm, msg) {\n",
       "    // This is the function which gets called when the mpl process\n",
       "    // starts-up an IPython Comm through the \"matplotlib\" channel.\n",
       "\n",
       "    var id = msg.content.data.id;\n",
       "    // Get hold of the div created by the display call when the Comm\n",
       "    // socket was opened in Python.\n",
       "    var element = $(\"#\" + id);\n",
       "    var ws_proxy = comm_websocket_adapter(comm)\n",
       "\n",
       "    function ondownload(figure, format) {\n",
       "        window.open(figure.imageObj.src);\n",
       "    }\n",
       "\n",
       "    var fig = new mpl.figure(id, ws_proxy,\n",
       "                           ondownload,\n",
       "                           element.get(0));\n",
       "\n",
       "    // Call onopen now - mpl needs it, as it is assuming we've passed it a real\n",
       "    // web socket which is closed, not our websocket->open comm proxy.\n",
       "    ws_proxy.onopen();\n",
       "\n",
       "    fig.parent_element = element.get(0);\n",
       "    fig.cell_info = mpl.find_output_cell(\"<div id='\" + id + \"'></div>\");\n",
       "    if (!fig.cell_info) {\n",
       "        console.error(\"Failed to find cell for figure\", id, fig);\n",
       "        return;\n",
       "    }\n",
       "\n",
       "    var output_index = fig.cell_info[2]\n",
       "    var cell = fig.cell_info[0];\n",
       "\n",
       "};\n",
       "\n",
       "mpl.figure.prototype.handle_close = function(fig, msg) {\n",
       "    fig.root.unbind('remove')\n",
       "\n",
       "    // Update the output cell to use the data from the current canvas.\n",
       "    fig.push_to_output();\n",
       "    var dataURL = fig.canvas.toDataURL();\n",
       "    // Re-enable the keyboard manager in IPython - without this line, in FF,\n",
       "    // the notebook keyboard shortcuts fail.\n",
       "    IPython.keyboard_manager.enable()\n",
       "    $(fig.parent_element).html('<img src=\"' + dataURL + '\">');\n",
       "    fig.close_ws(fig, msg);\n",
       "}\n",
       "\n",
       "mpl.figure.prototype.close_ws = function(fig, msg){\n",
       "    fig.send_message('closing', msg);\n",
       "    // fig.ws.close()\n",
       "}\n",
       "\n",
       "mpl.figure.prototype.push_to_output = function(remove_interactive) {\n",
       "    // Turn the data on the canvas into data in the output cell.\n",
       "    var dataURL = this.canvas.toDataURL();\n",
       "    this.cell_info[1]['text/html'] = '<img src=\"' + dataURL + '\">';\n",
       "}\n",
       "\n",
       "mpl.figure.prototype.updated_canvas_event = function() {\n",
       "    // Tell IPython that the notebook contents must change.\n",
       "    IPython.notebook.set_dirty(true);\n",
       "    this.send_message(\"ack\", {});\n",
       "    var fig = this;\n",
       "    // Wait a second, then push the new image to the DOM so\n",
       "    // that it is saved nicely (might be nice to debounce this).\n",
       "    setTimeout(function () { fig.push_to_output() }, 1000);\n",
       "}\n",
       "\n",
       "mpl.figure.prototype._init_toolbar = function() {\n",
       "    var fig = this;\n",
       "\n",
       "    var nav_element = $('<div/>')\n",
       "    nav_element.attr('style', 'width: 100%');\n",
       "    this.root.append(nav_element);\n",
       "\n",
       "    // Define a callback function for later on.\n",
       "    function toolbar_event(event) {\n",
       "        return fig.toolbar_button_onclick(event['data']);\n",
       "    }\n",
       "    function toolbar_mouse_event(event) {\n",
       "        return fig.toolbar_button_onmouseover(event['data']);\n",
       "    }\n",
       "\n",
       "    for(var toolbar_ind in mpl.toolbar_items){\n",
       "        var name = mpl.toolbar_items[toolbar_ind][0];\n",
       "        var tooltip = mpl.toolbar_items[toolbar_ind][1];\n",
       "        var image = mpl.toolbar_items[toolbar_ind][2];\n",
       "        var method_name = mpl.toolbar_items[toolbar_ind][3];\n",
       "\n",
       "        if (!name) { continue; };\n",
       "\n",
       "        var button = $('<button class=\"btn btn-default\" href=\"#\" title=\"' + name + '\"><i class=\"fa ' + image + ' fa-lg\"></i></button>');\n",
       "        button.click(method_name, toolbar_event);\n",
       "        button.mouseover(tooltip, toolbar_mouse_event);\n",
       "        nav_element.append(button);\n",
       "    }\n",
       "\n",
       "    // Add the status bar.\n",
       "    var status_bar = $('<span class=\"mpl-message\" style=\"text-align:right; float: right;\"/>');\n",
       "    nav_element.append(status_bar);\n",
       "    this.message = status_bar[0];\n",
       "\n",
       "    // Add the close button to the window.\n",
       "    var buttongrp = $('<div class=\"btn-group inline pull-right\"></div>');\n",
       "    var button = $('<button class=\"btn btn-mini btn-primary\" href=\"#\" title=\"Stop Interaction\"><i class=\"fa fa-power-off icon-remove icon-large\"></i></button>');\n",
       "    button.click(function (evt) { fig.handle_close(fig, {}); } );\n",
       "    button.mouseover('Stop Interaction', toolbar_mouse_event);\n",
       "    buttongrp.append(button);\n",
       "    var titlebar = this.root.find($('.ui-dialog-titlebar'));\n",
       "    titlebar.prepend(buttongrp);\n",
       "}\n",
       "\n",
       "mpl.figure.prototype._root_extra_style = function(el){\n",
       "    var fig = this\n",
       "    el.on(\"remove\", function(){\n",
       "\tfig.close_ws(fig, {});\n",
       "    });\n",
       "}\n",
       "\n",
       "mpl.figure.prototype._canvas_extra_style = function(el){\n",
       "    // this is important to make the div 'focusable\n",
       "    el.attr('tabindex', 0)\n",
       "    // reach out to IPython and tell the keyboard manager to turn it's self\n",
       "    // off when our div gets focus\n",
       "\n",
       "    // location in version 3\n",
       "    if (IPython.notebook.keyboard_manager) {\n",
       "        IPython.notebook.keyboard_manager.register_events(el);\n",
       "    }\n",
       "    else {\n",
       "        // location in version 2\n",
       "        IPython.keyboard_manager.register_events(el);\n",
       "    }\n",
       "\n",
       "}\n",
       "\n",
       "mpl.figure.prototype._key_event_extra = function(event, name) {\n",
       "    var manager = IPython.notebook.keyboard_manager;\n",
       "    if (!manager)\n",
       "        manager = IPython.keyboard_manager;\n",
       "\n",
       "    // Check for shift+enter\n",
       "    if (event.shiftKey && event.which == 13) {\n",
       "        this.canvas_div.blur();\n",
       "        event.shiftKey = false;\n",
       "        // Send a \"J\" for go to next cell\n",
       "        event.which = 74;\n",
       "        event.keyCode = 74;\n",
       "        manager.command_mode();\n",
       "        manager.handle_keydown(event);\n",
       "    }\n",
       "}\n",
       "\n",
       "mpl.figure.prototype.handle_save = function(fig, msg) {\n",
       "    fig.ondownload(fig, null);\n",
       "}\n",
       "\n",
       "\n",
       "mpl.find_output_cell = function(html_output) {\n",
       "    // Return the cell and output element which can be found *uniquely* in the notebook.\n",
       "    // Note - this is a bit hacky, but it is done because the \"notebook_saving.Notebook\"\n",
       "    // IPython event is triggered only after the cells have been serialised, which for\n",
       "    // our purposes (turning an active figure into a static one), is too late.\n",
       "    var cells = IPython.notebook.get_cells();\n",
       "    var ncells = cells.length;\n",
       "    for (var i=0; i<ncells; i++) {\n",
       "        var cell = cells[i];\n",
       "        if (cell.cell_type === 'code'){\n",
       "            for (var j=0; j<cell.output_area.outputs.length; j++) {\n",
       "                var data = cell.output_area.outputs[j];\n",
       "                if (data.data) {\n",
       "                    // IPython >= 3 moved mimebundle to data attribute of output\n",
       "                    data = data.data;\n",
       "                }\n",
       "                if (data['text/html'] == html_output) {\n",
       "                    return [cell, data, j];\n",
       "                }\n",
       "            }\n",
       "        }\n",
       "    }\n",
       "}\n",
       "\n",
       "// Register the function which deals with the matplotlib target/channel.\n",
       "// The kernel may be null if the page has been refreshed.\n",
       "if (IPython.notebook.kernel != null) {\n",
       "    IPython.notebook.kernel.comm_manager.register_target('matplotlib', mpl.mpl_figure_comm);\n",
       "}\n"
      ],
      "text/plain": [
       "<IPython.core.display.Javascript object>"
      ]
     },
     "metadata": {},
     "output_type": "display_data"
    },
    {
     "data": {
      "text/html": [
       "<img src=\"data:image/png;base64,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\">"
      ],
      "text/plain": [
       "<IPython.core.display.HTML object>"
      ]
     },
     "metadata": {},
     "output_type": "display_data"
    }
   ],
   "source": [
    "plot_class_poll()"
   ]
  },
  {
   "cell_type": "markdown",
   "metadata": {
    "slideshow": {
     "slide_type": "slide"
    }
   },
   "source": [
    "# Development Tools: IPython and Jupyter Notebook"
   ]
  },
  {
   "cell_type": "markdown",
   "metadata": {
    "slideshow": {
     "slide_type": "subslide"
    }
   },
   "source": [
    "# IPython (\"Interactive Python\")\n",
    "\n",
    "IPython is a Full-Featured interactive console for Python."
   ]
  },
  {
   "cell_type": "code",
   "execution_count": 70,
   "metadata": {
    "collapsed": false
   },
   "outputs": [
    {
     "data": {
      "text/html": [
       "<iframe src=\"https://ipython.org/ipython-doc/2/interactive/tutorial.html\" width=900 height=500></iframe>"
      ],
      "text/plain": [
       "<IPython.core.display.HTML object>"
      ]
     },
     "execution_count": 70,
     "metadata": {},
     "output_type": "execute_result"
    }
   ],
   "source": [
    "HTML('<iframe src=\"https://ipython.org/ipython-doc/2/interactive/tutorial.html\" width=900 height=500></iframe>')"
   ]
  },
  {
   "cell_type": "markdown",
   "metadata": {
    "slideshow": {
     "slide_type": "subslide"
    }
   },
   "source": [
    "# The Notebook (aka IPython Notebook, Jupyter Notebook)"
   ]
  },
  {
   "cell_type": "code",
   "execution_count": 65,
   "metadata": {
    "collapsed": false,
    "slideshow": {
     "slide_type": "-"
    }
   },
   "outputs": [
    {
     "data": {
      "text/html": [
       "<img src=\"http://jupyter.org/assets/jupyterpreview.png\" width=\"800\"/>"
      ],
      "text/plain": [
       "<IPython.core.display.Image object>"
      ]
     },
     "execution_count": 65,
     "metadata": {},
     "output_type": "execute_result"
    }
   ],
   "source": [
    "Image(url='http://jupyter.org/assets/jupyterpreview.png', width=800)"
   ]
  },
  {
   "cell_type": "markdown",
   "metadata": {
    "slideshow": {
     "slide_type": "subslide"
    }
   },
   "source": [
    "## Notebook Exercise:\n",
    "\n",
    "  1. Open a Notebook in Jupyter in a new folder on your computer.\n",
    "  2. Change the Title of the Notebook\n",
    "  3. Make an integer variable and a string variable in the first cell\n",
    "  4. Print the output of multiplying the two variables together\n",
    "  5. Add a markdown cell above the cell you just made, and make a Header title\n",
    "  6. Create an interactive console session with the **%qtconsole** magic."
   ]
  },
  {
   "cell_type": "markdown",
   "metadata": {
    "slideshow": {
     "slide_type": "subslide"
    }
   },
   "source": [
    "## Markdown CheatSheet"
   ]
  },
  {
   "cell_type": "code",
   "execution_count": null,
   "metadata": {
    "collapsed": false
   },
   "outputs": [],
   "source": [
    "\n",
    "HTML('<iframe src=\"https://github.com/adam-p/markdown-here/wiki/Markdown-Cheatsheet\" width=900 height=500></iframe>')"
   ]
  },
  {
   "cell_type": "markdown",
   "metadata": {
    "slideshow": {
     "slide_type": "slide"
    }
   },
   "source": [
    "# Python Variables and Variable Types"
   ]
  },
  {
   "cell_type": "code",
   "execution_count": null,
   "metadata": {
    "collapsed": true
   },
   "outputs": [],
   "source": [
    "a_int = 3\n",
    "a_float = 4.4\n",
    "a_bool = True\n",
    "a_str = 'hello'\n",
    "a_list = [1, 2.4, 'goodbye']\n",
    "a_tuple = (4, 3.5, 'dog', 'cat')\n",
    "a_dict = {1: 5, 'a': 2, 'b': 'cat', 'dog': 8}"
   ]
  },
  {
   "cell_type": "code",
   "execution_count": null,
   "metadata": {
    "collapsed": false
   },
   "outputs": [],
   "source": [
    "type(a_tuple)\n",
    "a_dict"
   ]
  },
  {
   "cell_type": "markdown",
   "metadata": {
    "slideshow": {
     "slide_type": "subslide"
    }
   },
   "source": [
    "## All **Instances** of **Types** can be formed with a **Constructor**"
   ]
  },
  {
   "cell_type": "code",
   "execution_count": null,
   "metadata": {
    "collapsed": false
   },
   "outputs": [],
   "source": [
    "b_int = int(3)\n",
    "b_float = float(6.3)\n",
    "b_str = str('hi')\n",
    "b_list = list([1, 2, 3])\n",
    "b_tuple = tuple([1,2,3])\n",
    "\n",
    "c_int = int(b_float)"
   ]
  },
  {
   "cell_type": "code",
   "execution_count": null,
   "metadata": {
    "collapsed": true
   },
   "outputs": [],
   "source": []
  },
  {
   "cell_type": "markdown",
   "metadata": {
    "slideshow": {
     "slide_type": "subslide"
    }
   },
   "source": [
    "## Operators (ex: +, -, /, * ) Do Different Things to Different Types"
   ]
  },
  {
   "cell_type": "code",
   "execution_count": null,
   "metadata": {
    "collapsed": false
   },
   "outputs": [],
   "source": [
    "3 + 5"
   ]
  },
  {
   "cell_type": "code",
   "execution_count": null,
   "metadata": {
    "collapsed": false
   },
   "outputs": [],
   "source": [
    "7 / 2.6"
   ]
  },
  {
   "cell_type": "code",
   "execution_count": null,
   "metadata": {
    "collapsed": false
   },
   "outputs": [],
   "source": [
    "print('Hi' * 5)\n",
    "['Hi'] * 5"
   ]
  },
  {
   "cell_type": "markdown",
   "metadata": {
    "slideshow": {
     "slide_type": "subslide"
    }
   },
   "source": [
    "# Advanced Features"
   ]
  },
  {
   "cell_type": "markdown",
   "metadata": {
    "slideshow": {
     "slide_type": "fragment"
    }
   },
   "source": [
    "## Tuple Unpacking"
   ]
  },
  {
   "cell_type": "code",
   "execution_count": null,
   "metadata": {
    "collapsed": false
   },
   "outputs": [],
   "source": [
    "a, b = 1, 3\n",
    "a, b = b, a\n",
    "a, b"
   ]
  },
  {
   "cell_type": "markdown",
   "metadata": {
    "slideshow": {
     "slide_type": "fragment"
    }
   },
   "source": [
    "## Assignment with Operators"
   ]
  },
  {
   "cell_type": "code",
   "execution_count": null,
   "metadata": {
    "collapsed": false
   },
   "outputs": [],
   "source": [
    "a = 5\n",
    "a += 1\n",
    "a"
   ]
  },
  {
   "cell_type": "markdown",
   "metadata": {
    "slideshow": {
     "slide_type": "subslide"
    }
   },
   "source": [
    "# Bool Rules: 0 and Empty are False, all else are True"
   ]
  },
  {
   "cell_type": "code",
   "execution_count": null,
   "metadata": {
    "collapsed": false
   },
   "outputs": [],
   "source": [
    "bool(3)\n",
    "bool(-4.2)\n",
    "bool('Hello')\n",
    "bool(['a', 'b', 'c'])"
   ]
  },
  {
   "cell_type": "code",
   "execution_count": null,
   "metadata": {
    "collapsed": false
   },
   "outputs": [],
   "source": [
    "bool(0)\n",
    "bool(0.0)\n",
    "bool('')\n",
    "bool([])\n"
   ]
  },
  {
   "cell_type": "markdown",
   "metadata": {
    "collapsed": true,
    "slideshow": {
     "slide_type": "slide"
    }
   },
   "source": [
    "# Python is an \"Object-Oriented\" Language\n",
    "\n",
    "  - This means that everything in Python is has functions and data inside of it, viewable using the **dir()** function or pressing Tab in IPython. \n",
    "  - **Note:** Ignore everything beginning with __ (ex: '____add__').  These are \"private\".\n",
    "  \n",
    "## Essential Function: type()"
   ]
  },
  {
   "cell_type": "code",
   "execution_count": 73,
   "metadata": {
    "collapsed": false
   },
   "outputs": [
    {
     "data": {
      "text/plain": [
       "int"
      ]
     },
     "execution_count": 73,
     "metadata": {},
     "output_type": "execute_result"
    }
   ],
   "source": [
    "type(3)"
   ]
  },
  {
   "cell_type": "markdown",
   "metadata": {
    "slideshow": {
     "slide_type": "subslide"
    }
   },
   "source": [
    "# Python is a \"Dynamically Typed\" Language\n",
    "\n",
    "  - This means that, unlike in other languages, you can change the type of a variable at any time you wish.\n",
    "  - To check that a variable is a certain type, use the **isinstance()** function or compare types directly"
   ]
  },
  {
   "cell_type": "code",
   "execution_count": 76,
   "metadata": {
    "collapsed": false
   },
   "outputs": [
    {
     "name": "stdout",
     "output_type": "stream",
     "text": [
      "True\n",
      "True\n"
     ]
    }
   ],
   "source": [
    "print(  isinstance('Hello', str)   )\n",
    "print(  type('Hello') == str  )"
   ]
  },
  {
   "cell_type": "markdown",
   "metadata": {},
   "source": [
    "## Exercise: Find the Type of variable obtained from dividing an int by a float"
   ]
  },
  {
   "cell_type": "markdown",
   "metadata": {
    "slideshow": {
     "slide_type": "subslide"
    }
   },
   "source": [
    "# More OOP Jargon\n",
    "\n",
    "  - **Class** is the **type** of a variable.\n",
    "  - **Instance** is a **constructed** variable of that class.\n",
    "      - Often, people will call the instance an **object**, although this isn't technically correct.\n",
    "  - **Attribute** or **Property** is data that belongs to an object.\n",
    "      - In Python, this is accessed via the **dot (.)**\n",
    "      - ex) my_float.real\n",
    "  - **Method** is a **Function** that belongs to an object.\n",
    "      - In Python, you **call** functions with the **parentheses**.  \n",
    "      - ex) 'Hello'.upper()\n",
    "      \n",
    "### In Python, Everything is an Object (to be explored)      "
   ]
  },
  {
   "cell_type": "markdown",
   "metadata": {
    "slideshow": {
     "slide_type": "slide"
    }
   },
   "source": [
    "# Read the Documentation!\n",
    "\n",
    "To understand what an object can do and how to use it, you have many possible sources of information:\n",
    "  \n",
    "  1. The Package's Documentation itself.  \n",
    "  2. The **help()** function\n",
    "  3. In IPython, the ?.\n",
    "     - Ex) sorted?\n",
    "  4. In IPython, the Tab button after the dot.\n",
    "  5. The **dir()** function."
   ]
  },
  {
   "cell_type": "markdown",
   "metadata": {
    "slideshow": {
     "slide_type": "subslide"
    }
   },
   "source": [
    "# Essential String Methods"
   ]
  },
  {
   "cell_type": "code",
   "execution_count": 77,
   "metadata": {
    "collapsed": true
   },
   "outputs": [],
   "source": [
    "example_string = 'Mary had a little lamb named Sue.'"
   ]
  },
  {
   "cell_type": "code",
   "execution_count": 78,
   "metadata": {
    "collapsed": false
   },
   "outputs": [
    {
     "data": {
      "text/plain": [
       "'MARY HAD A LITTLE LAMB NAMED SUE.'"
      ]
     },
     "execution_count": 78,
     "metadata": {},
     "output_type": "execute_result"
    }
   ],
   "source": [
    "example_string.upper()"
   ]
  },
  {
   "cell_type": "code",
   "execution_count": 79,
   "metadata": {
    "collapsed": false
   },
   "outputs": [
    {
     "data": {
      "text/plain": [
       "13"
      ]
     },
     "execution_count": 79,
     "metadata": {},
     "output_type": "execute_result"
    }
   ],
   "source": [
    "example_string.find('t')"
   ]
  },
  {
   "cell_type": "markdown",
   "metadata": {
    "slideshow": {
     "slide_type": "subslide"
    }
   },
   "source": [
    "### 5-Min Exercise: Find Out What the following methods do, and how to use them!"
   ]
  },
  {
   "cell_type": "code",
   "execution_count": 84,
   "metadata": {
    "collapsed": false,
    "slideshow": {
     "slide_type": "-"
    }
   },
   "outputs": [
    {
     "data": {
      "text/plain": [
       "<function str.join>"
      ]
     },
     "execution_count": 84,
     "metadata": {},
     "output_type": "execute_result"
    }
   ],
   "source": [
    "example_string.capitalize\n",
    "example_string.replace\n",
    "example_string.count\n",
    "example_string.isalpha\n",
    "example_string.isdigit\n",
    "example_string.islower\n",
    "example_string.split\n",
    "example_string.join"
   ]
  },
  {
   "cell_type": "markdown",
   "metadata": {
    "slideshow": {
     "slide_type": "subslide"
    }
   },
   "source": [
    "# Essential List Methods"
   ]
  },
  {
   "cell_type": "code",
   "execution_count": 86,
   "metadata": {
    "collapsed": false
   },
   "outputs": [
    {
     "data": {
      "text/plain": [
       "<function list.count>"
      ]
     },
     "execution_count": 86,
     "metadata": {},
     "output_type": "execute_result"
    }
   ],
   "source": [
    "example_list = ['Python', 'Science', 'Awesome']\n",
    "\n",
    "example_list.reverse\n",
    "example_list.append\n",
    "example_list.extend\n",
    "example_list.sort\n",
    "example_list.remove\n",
    "example_list.pop\n",
    "example_list.count\n"
   ]
  },
  {
   "cell_type": "markdown",
   "metadata": {
    "slideshow": {
     "slide_type": "slide"
    }
   },
   "source": [
    "# Homework\n",
    "\n",
    "  1. Finish Codeacademy Tutorial!\n",
    "  2. Get Everything running on your Laptop\n",
    "  \n",
    "Extra Challenge:  http://www.codewars.com\n",
    "\n",
    "This Script can be Downloaded at https://github.com/neuroneuro15/SciPyCourse2016"
   ]
  },
  {
   "cell_type": "markdown",
   "metadata": {
    "slideshow": {
     "slide_type": "skip"
    }
   },
   "source": [
    "# if - elif - else Statements\n",
    " - **>**: \"is greater than\",   **<**: \"is less than\",  \n",
    " - **==**: \"is equal to,  **!=**: \"is *not* equal to\"\n"
   ]
  },
  {
   "cell_type": "code",
   "execution_count": null,
   "metadata": {
    "collapsed": true,
    "slideshow": {
     "slide_type": "skip"
    }
   },
   "outputs": [],
   "source": [
    "a = 3\n",
    "b = 10"
   ]
  },
  {
   "cell_type": "code",
   "execution_count": null,
   "metadata": {
    "collapsed": false,
    "slideshow": {
     "slide_type": "skip"
    }
   },
   "outputs": [],
   "source": [
    "if a > b:\n",
    "    print('True')\n",
    "else:\n",
    "    print('False')"
   ]
  },
  {
   "cell_type": "markdown",
   "metadata": {
    "slideshow": {
     "slide_type": "skip"
    }
   },
   "source": [
    "## Aside: Python and \"Meaningful Whitespace\"\n",
    "  - Mixing spaces and tabs will result in errors!\n",
    "  - Same number of spaces on every line!\n",
    "  - Rule: If there's a colon, you must indent\n"
   ]
  },
  {
   "cell_type": "code",
   "execution_count": null,
   "metadata": {
    "collapsed": true,
    "slideshow": {
     "slide_type": "skip"
    }
   },
   "outputs": [],
   "source": []
  }
 ],
 "metadata": {
  "celltoolbar": "Slideshow",
  "kernelspec": {
   "display_name": "Python 3",
   "language": "python",
   "name": "python3"
  },
  "language_info": {
   "codemirror_mode": {
    "name": "ipython",
    "version": 3
   },
   "file_extension": ".py",
   "mimetype": "text/x-python",
   "name": "python",
   "nbconvert_exporter": "python",
   "pygments_lexer": "ipython3",
   "version": "3.4.3"
  }
 },
 "nbformat": 4,
 "nbformat_minor": 0
}
