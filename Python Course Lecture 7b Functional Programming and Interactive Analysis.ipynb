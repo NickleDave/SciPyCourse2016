{
 "cells": [
  {
   "cell_type": "code",
   "execution_count": 95,
   "metadata": {
    "collapsed": true
   },
   "outputs": [],
   "source": [
    "from IPython.display import HTML\n",
    "import numpy as np\n",
    "import pandas as pd\n",
    "import matplotlib.pyplot as plt\n",
    "%matplotlib inline"
   ]
  },
  {
   "cell_type": "markdown",
   "metadata": {
    "slideshow": {
     "slide_type": "slide"
    }
   },
   "source": [
    "# Python Course Lecture 7b:Intro to Functional Programming and its Applications: \n",
    "  - **Data Aggregation** in Pandas\n",
    "  - **Parallel Processing** using multiprocessing.map()\n",
    "  - **Graphical Interfaces** using ipywidgets.interact()"
   ]
  },
  {
   "cell_type": "markdown",
   "metadata": {
    "slideshow": {
     "slide_type": "subslide"
    }
   },
   "source": [
    "# Different Tasks and Languages Encourage Different Programming Paradigms"
   ]
  },
  {
   "cell_type": "markdown",
   "metadata": {
    "slideshow": {
     "slide_type": "subslide"
    }
   },
   "source": [
    "## Python is a Multi-Paradigm Language.  \n",
    "This means that Python supports programming according to different manners of thinking:\n",
    "  - **Procedural Programming**: Telling the computer what to do in a step-by-step manner.\n",
    "  - **Functional Programming**: Telling the computer a set of transformations to perform.\n",
    "  - **Object-Oriented Programming**: Telling the computer how certain data should be stored and handled by describing its qualities.\n",
    "  - **Declarative Programming**: Telling the computer what result you want."
   ]
  },
  {
   "cell_type": "markdown",
   "metadata": {
    "slideshow": {
     "slide_type": "subslide"
    }
   },
   "source": [
    "# Paradigm Example: Building a Sandwich"
   ]
  },
  {
   "cell_type": "markdown",
   "metadata": {
    "slideshow": {
     "slide_type": "subslide"
    }
   },
   "source": [
    "## Procedural: Building a Sandwich\n",
    "\"Grasp the drawer handle and pull it towards you 10cm. Take a knife, located in the 3rd compartment from the drawer into your hand. Push the drawer handle until it resists pressure. Place the bread on the table. Twice now: Hold the knife above the bread, then move it down 1cm from its end, pulling away the smallest segment and laying it flat on the table.  Open the refrigerator. Take some cheese from the refrigerator. Close the refrigerator...\"\n"
   ]
  },
  {
   "cell_type": "markdown",
   "metadata": {
    "slideshow": {
     "slide_type": "subslide"
    }
   },
   "source": [
    "## Functional: Building a Sandwich\n",
    "  - **Getting** means opening something and removing the specified object, then closing that something.\n",
    "  - **Slicing** means pushing a knife through something and removing the small segment that is removed.\n",
    "  - **Stacking** means placing all things on top of one another in the order specified, resulting in a single thing.\n",
    "\n",
    "\"**Get** a Knife. **Get** and **Slice** and **Stack** the Bread and Cheese\""
   ]
  },
  {
   "cell_type": "markdown",
   "metadata": {
    "slideshow": {
     "slide_type": "subslide"
    }
   },
   "source": [
    "## Object-Oriented: Building a Sandwich\n",
    "  - **Containers** can be opened and closed. They can also contain Things that can be added or removed.\n",
    "  - **Things** can be Taken.\n",
    "  - **Food** is a **Thing**.  It can be sliced and eaten.\n",
    "  - **SharpObjects** are **Things**. They can slice things.\n",
    "  - The **Drawer** and **Refrigerator** are **Containers**. \n",
    "  - The **Bread** and **Cheese** are **Food**.\n",
    "  - The **Drawer** **Contains** the **Knife**.  \n",
    "  \n",
    "  "
   ]
  },
  {
   "cell_type": "markdown",
   "metadata": {
    "slideshow": {
     "slide_type": "subslide"
    }
   },
   "source": [
    "## Declarative: Building a Sandwich\n",
    "\n",
    "\"Give me a cheese sandwich, please.\""
   ]
  },
  {
   "cell_type": "markdown",
   "metadata": {
    "slideshow": {
     "slide_type": "slide"
    }
   },
   "source": [
    "# Functional Programming in Python: \n",
    "## \"Applying Functions to Data\""
   ]
  },
  {
   "cell_type": "markdown",
   "metadata": {
    "slideshow": {
     "slide_type": "subslide"
    }
   },
   "source": [
    "## Review: Making Functions"
   ]
  },
  {
   "cell_type": "code",
   "execution_count": 32,
   "metadata": {
    "collapsed": false
   },
   "outputs": [
    {
     "data": {
      "text/plain": [
       "6"
      ]
     },
     "execution_count": 32,
     "metadata": {},
     "output_type": "execute_result"
    }
   ],
   "source": [
    "def add(args):\n",
    "    return sum(args)\n",
    "\n",
    "add([1, 2, 3])"
   ]
  },
  {
   "cell_type": "markdown",
   "metadata": {
    "slideshow": {
     "slide_type": "subslide"
    }
   },
   "source": [
    "## Python Functions can be Renamed.  They are also Objects!"
   ]
  },
  {
   "cell_type": "code",
   "execution_count": 33,
   "metadata": {
    "collapsed": false
   },
   "outputs": [
    {
     "data": {
      "text/plain": [
       "6"
      ]
     },
     "execution_count": 33,
     "metadata": {},
     "output_type": "execute_result"
    }
   ],
   "source": [
    "total = add\n",
    "total([1, 2, 3])"
   ]
  },
  {
   "cell_type": "code",
   "execution_count": 34,
   "metadata": {
    "collapsed": false
   },
   "outputs": [
    {
     "data": {
      "text/plain": [
       "function"
      ]
     },
     "execution_count": 34,
     "metadata": {},
     "output_type": "execute_result"
    }
   ],
   "source": [
    "type(total)"
   ]
  },
  {
   "cell_type": "markdown",
   "metadata": {
    "slideshow": {
     "slide_type": "subslide"
    }
   },
   "source": [
    "## Lambda Functions: Make a Function in a single line."
   ]
  },
  {
   "cell_type": "code",
   "execution_count": 26,
   "metadata": {
    "collapsed": false
   },
   "outputs": [
    {
     "data": {
      "text/plain": [
       "7"
      ]
     },
     "execution_count": 26,
     "metadata": {},
     "output_type": "execute_result"
    }
   ],
   "source": [
    "add2 = lambda x: x + 2\n",
    "add2(5)"
   ]
  },
  {
   "cell_type": "code",
   "execution_count": 25,
   "metadata": {
    "collapsed": false
   },
   "outputs": [
    {
     "data": {
      "text/plain": [
       "15"
      ]
     },
     "execution_count": 25,
     "metadata": {},
     "output_type": "execute_result"
    }
   ],
   "source": [
    "mult = lambda x,y: x*y\n",
    "mult(3, 5)"
   ]
  },
  {
   "cell_type": "markdown",
   "metadata": {
    "slideshow": {
     "slide_type": "slide"
    }
   },
   "source": [
    "## Python Functions can be put in other functions\n",
    "Demo: The **apply()** function (included in Python2, not 3) calls a function on data."
   ]
  },
  {
   "cell_type": "code",
   "execution_count": 6,
   "metadata": {
    "collapsed": false
   },
   "outputs": [
    {
     "data": {
      "text/plain": [
       "6"
      ]
     },
     "execution_count": 6,
     "metadata": {},
     "output_type": "execute_result"
    }
   ],
   "source": [
    "def apply(fun, data):\n",
    "    return fun(data)\n",
    "    \n",
    "apply(sum, [1, 2, 3])"
   ]
  },
  {
   "cell_type": "markdown",
   "metadata": {
    "slideshow": {
     "slide_type": "subslide"
    }
   },
   "source": [
    "## Pandas Aggregation: Another example of Functions applying Functions\n",
    "From last week's homework:\n",
    "```python\n",
    "LogRT.agg({'Mean': np.mean, 'STD': np.std})\n",
    "```"
   ]
  },
  {
   "cell_type": "code",
   "execution_count": 98,
   "metadata": {
    "collapsed": false
   },
   "outputs": [
    {
     "data": {
      "text/html": [
       "<table border=\"1\">\n",
       " <thead>\n",
       " <tr style=\"text-align: right;\">\n",
       " <th></th>\n",
       " <th>STD</th>\n",
       "  <th>Mean</th>\n",
       " </tr>\n",
       "  <tr>\n",
       "      <th>UserID</th>\n",
       "      <th></th>\n",
       "      <th></th>\n",
       "    </tr>\n",
       "  </thead>\n",
       "  <tbody>\n",
       "    <tr>\n",
       "      <th>156772</th>\n",
       "      <td>0.287129</td>\n",
       "      <td>7.161207</td>\n",
       "    </tr>\n",
       "    <tr>\n",
       "      <th>156839</th>\n",
       "      <td>0.525333</td>\n",
       "      <td>6.513287</td>\n",
       "    </tr>\n",
       "    <tr>\n",
       "      <th>156856</th>\n",
       "      <td>0.316302</td>\n",
       "      <td>6.942405</td>\n",
       "    </tr>\n",
       "    <tr>\n",
       "      <th>156857</th>\n",
       "      <td>0.424438</td>\n",
       "      <td>7.176462</td>\n",
       "    </tr>\n",
       "  </tbody>\n",
       "</table>"
      ],
      "text/plain": [
       "<IPython.core.display.HTML object>"
      ]
     },
     "execution_count": 98,
     "metadata": {},
     "output_type": "execute_result"
    }
   ],
   "source": [
    "HTML('<table border=\"1\">\\n <thead>\\n <tr style=\"text-align: right;\">\\n <th></th>\\n <th>STD</th>\\n  <th>Mean</th>\\n </tr>\\n  <tr>\\n      <th>UserID</th>\\n      <th></th>\\n      <th></th>\\n    </tr>\\n  </thead>\\n  <tbody>\\n    <tr>\\n      <th>156772</th>\\n      <td>0.287129</td>\\n      <td>7.161207</td>\\n    </tr>\\n    <tr>\\n      <th>156839</th>\\n      <td>0.525333</td>\\n      <td>6.513287</td>\\n    </tr>\\n    <tr>\\n      <th>156856</th>\\n      <td>0.316302</td>\\n      <td>6.942405</td>\\n    </tr>\\n    <tr>\\n      <th>156857</th>\\n      <td>0.424438</td>\\n      <td>7.176462</td>\\n    </tr>\\n  </tbody>\\n</table>')"
   ]
  },
  {
   "cell_type": "markdown",
   "metadata": {
    "slideshow": {
     "slide_type": "subslide"
    }
   },
   "source": [
    "## map()\n",
    "Applying a Function on each element in a collection is called **Mapping** a Function to Data."
   ]
  },
  {
   "cell_type": "code",
   "execution_count": 93,
   "metadata": {
    "collapsed": false
   },
   "outputs": [
    {
     "data": {
      "text/plain": [
       "[0, 1, 4, 9, 16, 25, 36, 49, 64, 81]"
      ]
     },
     "execution_count": 93,
     "metadata": {},
     "output_type": "execute_result"
    }
   ],
   "source": [
    "def square(x): \n",
    "    return x ** 2\n",
    "\n",
    "list(map(square, range(10)))"
   ]
  },
  {
   "cell_type": "code",
   "execution_count": 92,
   "metadata": {
    "collapsed": false,
    "slideshow": {
     "slide_type": "fragment"
    }
   },
   "outputs": [
    {
     "data": {
      "text/plain": [
       "[0, 1, 4, 9, 16, 25, 36, 49, 64, 81]"
      ]
     },
     "execution_count": 92,
     "metadata": {},
     "output_type": "execute_result"
    }
   ],
   "source": [
    "[el ** 2 for el in range(10)]  "
   ]
  },
  {
   "cell_type": "markdown",
   "metadata": {
    "slideshow": {
     "slide_type": "subslide"
    }
   },
   "source": [
    "## lambda is often used for simple maps"
   ]
  },
  {
   "cell_type": "code",
   "execution_count": 103,
   "metadata": {
    "collapsed": false
   },
   "outputs": [
    {
     "data": {
      "text/plain": [
       "[0, 1, 4, 9, 16, 25, 36, 49, 64, 81]"
      ]
     },
     "execution_count": 103,
     "metadata": {},
     "output_type": "execute_result"
    }
   ],
   "source": [
    "list(map(lambda x: x ** 2, range(10)))"
   ]
  },
  {
   "cell_type": "markdown",
   "metadata": {
    "slideshow": {
     "slide_type": "subslide"
    }
   },
   "source": [
    "## Mapping can be used for parallel processing.  "
   ]
  },
  {
   "cell_type": "code",
   "execution_count": 105,
   "metadata": {
    "collapsed": false
   },
   "outputs": [
    {
     "name": "stdout",
     "output_type": "stream",
     "text": [
      "1 loop, best of 3: 2.69 s per loop\n",
      "1 loop, best of 3: 1.46 s per loop\n"
     ]
    }
   ],
   "source": [
    "maxval = 10000000\n",
    "%timeit list(map(square, range(maxval)))\n",
    "\n",
    "from multiprocessing import Pool\n",
    "workers = Pool(3) # Make a collection of 3 \"workers\" to do the work independently\n",
    "%timeit workers.map(square, range(maxval))\n",
    "workers.close()"
   ]
  },
  {
   "cell_type": "markdown",
   "metadata": {
    "collapsed": false,
    "slideshow": {
     "slide_type": "slide"
    }
   },
   "source": [
    "# Intro to Interactive Jupyter Widgets\n",
    "\n",
    "Now, we'll use the functional approach to make interactive plots in our Jupyter Notebooks.\n"
   ]
  },
  {
   "cell_type": "code",
   "execution_count": 107,
   "metadata": {
    "collapsed": true
   },
   "outputs": [],
   "source": [
    "import ipywidgets\n",
    "from ipywidgets import interact"
   ]
  },
  {
   "cell_type": "markdown",
   "metadata": {
    "slideshow": {
     "slide_type": "subslide"
    }
   },
   "source": [
    "## Widgets are Parts of a Graphical Interface"
   ]
  },
  {
   "cell_type": "code",
   "execution_count": 108,
   "metadata": {
    "collapsed": true
   },
   "outputs": [],
   "source": [
    "ipywidgets.Text('This is Text')"
   ]
  },
  {
   "cell_type": "code",
   "execution_count": 89,
   "metadata": {
    "collapsed": false
   },
   "outputs": [],
   "source": [
    "ipywidgets.IntSlider(3, min=-10, max=10)"
   ]
  },
  {
   "cell_type": "markdown",
   "metadata": {
    "slideshow": {
     "slide_type": "subslide"
    }
   },
   "source": [
    "### Project: Interact with Sine-waves\n",
    "The **ipywidgets.interact()** function is a quick-and-dirty way to generate widgets for controlling functions.  By default, it will try to choose an appropriate widget given the argument's type."
   ]
  },
  {
   "cell_type": "code",
   "execution_count": 109,
   "metadata": {
    "collapsed": false
   },
   "outputs": [
    {
     "data": {
      "text/plain": [
       "0.90929742682568171"
      ]
     },
     "metadata": {},
     "output_type": "display_data"
    }
   ],
   "source": [
    "def sin(x):\n",
    "    return np.sin(x)\n",
    "\n",
    "interact(sin, x=1.)"
   ]
  },
  {
   "cell_type": "code",
   "execution_count": 67,
   "metadata": {
    "collapsed": false,
    "slideshow": {
     "slide_type": "subslide"
    }
   },
   "outputs": [
    {
     "data": {
      "image/png": "[encoded data removed]",
      "text/plain": [
       "<matplotlib.figure.Figure at 0x7f2629325d30>"
      ]
     },
     "metadata": {},
     "output_type": "display_data"
    }
   ],
   "source": [
    "def plot_sin(amplitude):\n",
    "    x = np.linspace(0, 5 * np.pi, 100)\n",
    "    y = amplitude * np.sin(x)\n",
    "    plt.plot(x, y)\n",
    "    plt.ylim(-3, 3)\n",
    "    \n",
    "interact(plot_sin, amplitude=1.)"
   ]
  },
  {
   "cell_type": "code",
   "execution_count": 111,
   "metadata": {
    "collapsed": false,
    "slideshow": {
     "slide_type": "subslide"
    }
   },
   "outputs": [
    {
     "data": {
      "image/png": "[encoded data removed]",
      "text/plain": [
       "<matplotlib.figure.Figure at 0x7f262919c6d8>"
      ]
     },
     "metadata": {},
     "output_type": "display_data"
    }
   ],
   "source": [
    "def plot_sin(amplitude):\n",
    "    x = np.linspace(0, 5 * np.pi, 100)\n",
    "    y = amplitude * np.sin(x)\n",
    "    plt.plot(x, y)\n",
    "    plt.ylim(-3, 3)\n",
    "    \n",
    "interact(plot_sin, amplitude=ipywidgets.FloatSlider(0., min=-3, max=3))"
   ]
  },
  {
   "cell_type": "code",
   "execution_count": 114,
   "metadata": {
    "collapsed": false,
    "slideshow": {
     "slide_type": "subslide"
    }
   },
   "outputs": [
    {
     "data": {
      "image/png": "[encoded data removed]",
      "text/plain": [
       "<matplotlib.figure.Figure at 0x7f262956d128>"
      ]
     },
     "metadata": {},
     "output_type": "display_data"
    }
   ],
   "source": [
    "def plot_sin(amplitude=0.):\n",
    "    x = np.linspace(0, 5 * np.pi, 100)\n",
    "    y = amplitude * np.sin(x)\n",
    "    plt.plot(x, y)\n",
    "    plt.ylim(-3, 3)\n",
    "    \n",
    "interact(plot_sin)"
   ]
  },
  {
   "cell_type": "code",
   "execution_count": 70,
   "metadata": {
    "collapsed": false,
    "slideshow": {
     "slide_type": "subslide"
    }
   },
   "outputs": [
    {
     "data": {
      "image/png": "[encoded data removed]",
      "text/plain": [
       "<matplotlib.figure.Figure at 0x7f26292f92b0>"
      ]
     },
     "metadata": {},
     "output_type": "display_data"
    }
   ],
   "source": [
    "def plot_sin(amplitude, theta, offset):\n",
    "    x = np.linspace(0, 5 * np.pi, 100)\n",
    "    y = amplitude * np.sin(x + theta) + offset\n",
    "    plt.plot(x, y)\n",
    "    plt.ylim(-3, 3)\n",
    "    \n",
    "interact(plot_sin, amplitude=1., theta=0., offset=0.)"
   ]
  },
  {
   "cell_type": "code",
   "execution_count": 119,
   "metadata": {
    "collapsed": false,
    "slideshow": {
     "slide_type": "subslide"
    }
   },
   "outputs": [
    {
     "data": {
      "image/png": "[encoded data removed]",
      "text/plain": [
       "<matplotlib.figure.Figure at 0x7f26288f5be0>"
      ]
     },
     "metadata": {},
     "output_type": "display_data"
    }
   ],
   "source": [
    "def plot_fun(fun, amplitude=1., theta=0., offset=0.):\n",
    "    x = np.linspace(0, 5 * np.pi, 100)\n",
    "    y = amplitude * fun(x + theta) + offset\n",
    "    plt.plot(x, y, label=fun.__name__); plt.ylim(-3, 3); plt.legend()\n",
    "    \n",
    "interact(plot_fun, fun={'sin': np.sin, 'cos': np.cos})"
   ]
  },
  {
   "cell_type": "markdown",
   "metadata": {
    "slideshow": {
     "slide_type": "slide"
    }
   },
   "source": [
    "## Conclusion:  Functional Programming is as simple as apply(fun, data)!"
   ]
  },
  {
   "cell_type": "code",
   "execution_count": null,
   "metadata": {
    "collapsed": true
   },
   "outputs": [],
   "source": []
  }
 ],
 "metadata": {
  "celltoolbar": "Slideshow",
  "kernelspec": {
   "display_name": "Python 3",
   "language": "python",
   "name": "python3"
  },
  "language_info": {
   "codemirror_mode": {
    "name": "ipython",
    "version": 3
   },
   "file_extension": ".py",
   "mimetype": "text/x-python",
   "name": "python",
   "nbconvert_exporter": "python",
   "pygments_lexer": "ipython3",
   "version": "3.4.3"
  }
 },
 "nbformat": 4,
 "nbformat_minor": 0
}
